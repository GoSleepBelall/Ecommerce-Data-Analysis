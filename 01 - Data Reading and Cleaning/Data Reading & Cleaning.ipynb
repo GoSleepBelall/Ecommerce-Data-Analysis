{
  "nbformat": 4,
  "nbformat_minor": 0,
  "metadata": {
    "colab": {
      "provenance": [],
      "toc_visible": true
    },
    "kernelspec": {
      "name": "python3",
      "display_name": "Python 3"
    },
    "language_info": {
      "name": "python"
    }
  },
  "cells": [
    {
      "cell_type": "code",
      "execution_count": null,
      "metadata": {
        "id": "9OiUIacABQI3"
      },
      "outputs": [],
      "source": [
        "import pandas as pd\n",
        "import matplotlib.pyplot as plt\n",
        "import seaborn as sns\n",
        "import numpy as np\n",
        "import json\n",
        "\n",
        "\n",
        "plt.style.use('seaborn-v0_8-pastel')\n",
        "sns.set_palette(\"pastel\")"
      ]
    },
    {
      "cell_type": "code",
      "source": [
        "# Get the current color palette\n",
        "current_palette = plt.rcParams['axes.prop_cycle'].by_key()['color']\n",
        "\n",
        "# Plot the colors in the palette\n",
        "sns.palplot(current_palette)\n",
        "plt.title(\"Current Color Palette\")\n",
        "plt.show()"
      ],
      "metadata": {
        "colab": {
          "base_uri": "https://localhost:8080/",
          "height": 141
        },
        "id": "R1MSKwBXBgQR",
        "outputId": "8f3a113e-835f-42a0-b489-83a33bc008e3"
      },
      "execution_count": null,
      "outputs": [
        {
          "output_type": "display_data",
          "data": {
            "text/plain": [
              "<Figure size 1000x100 with 1 Axes>"
            ],
            "image/png": "[encoded data removed]"
          },
          "metadata": {}
        }
      ]
    },
    {
      "cell_type": "markdown",
      "source": [
        "# Data Reading\n",
        "It is observed that the dataset is not in the default format that can be read by using default functions, thus we will read the dataset line by line and parse it accordingly. Once the json is parsed, We will convert it to Pandas dataframe."
      ],
      "metadata": {
        "id": "utIGXZ3GCgqk"
      }
    },
    {
      "cell_type": "code",
      "source": [
        "# Reading the JSON file\n",
        "path = '/content/electronics.json'\n",
        "with open(path, 'r') as file:\n",
        "    data_json = json.load(file)\n",
        "\n",
        "# Converting the JSON object to a pandas DataFrame\n",
        "data = pd.json_normalize(data_json)\n",
        "data.head()"
      ],
      "metadata": {
        "colab": {
          "base_uri": "https://localhost:8080/",
          "height": 487
        },
        "id": "Vxs_tO6tCsEn",
        "outputId": "111f7e6a-4f24-4fca-9bd8-d9a9be1f89e0"
      },
      "execution_count": null,
      "outputs": [
        {
          "output_type": "execute_result",
          "data": {
            "text/plain": [
              "                            Customer_ID Age  Gender Income_Level  \\\n",
              "0  b81ee6c9-2ae4-48a7-b283-220eaa244f43  40  Female       Medium   \n",
              "1                                        25    Male         High   \n",
              "2  fdf79bcd-5908-4c90-8501-570ffb5b7648  57   Other          Low   \n",
              "3  878dccba-893a-48f9-8d34-6ed394fa3c9c  38  Female       Medium   \n",
              "4  0af0bd81-73cc-494e-aa5e-75c6d0b6d743  68   Other       Medium   \n",
              "\n",
              "                                             Address  \\\n",
              "0  43548 Murray Islands Suite 974\\nAmyberg, CT 13457   \n",
              "1                                                      \n",
              "2     79683 Kevin Hill Apt. 555\\nJohnshire, AR 39961   \n",
              "3  02998 Hall Meadows Suite 809\\nNorth Robertvill...   \n",
              "4  21411 Timothy Ford Apt. 320\\nDavisborough, AR ...   \n",
              "\n",
              "                         Transaction_ID Purchase_Date  \\\n",
              "0  c6a6c712-e36b-406a-bfde-f53bdcf4744f    2022-04-26   \n",
              "1  0b587838-1e4f-4231-b488-42bcd47c052a    2021-08-10   \n",
              "2  462925b1-a5bf-4996-bda2-59749de64eea    2021-12-09   \n",
              "3  3cfafa02-6b34-4d77-9e05-d223dfab64e8    2022-12-03   \n",
              "4  0d8dc27a-0c8f-4a82-b57e-8bf54cee9759    2020-06-08   \n",
              "\n",
              "                             Product_ID Product_Category    Brand  \\\n",
              "0  d2f767d6-b01a-41a2-87f7-ec1d1186f50e         Clothing  Brand_C   \n",
              "1  79eadc55-2de1-41cf-b1b6-40118c0bf8ec            Books  Brand_A   \n",
              "2  9ab75a68-4329-4bd9-a259-2233c0f34c93      Electronics  Brand_A   \n",
              "3  d518569b-ff79-494b-b2b6-7e2af39db86a         Clothing  Brand_C   \n",
              "4  b6deac9d-2b7e-4a51-8273-a6534910b3bc            Books  Brand_B   \n",
              "\n",
              "  Purchase_Amount Average_Spending_Per_Purchase Purchase_Frequency_Per_Month  \\\n",
              "0             193                            59                            2   \n",
              "1             318                            77                            2   \n",
              "2             197                           100                            9   \n",
              "3             262                            97                            3   \n",
              "4             429                            85                            7   \n",
              "\n",
              "  Brand_Affinity_Score Product_Category_Preferences Month  Year  Season  \n",
              "0                    2                          Low    01  2010  Winter  \n",
              "1                    1                          Low    08  1989    Fall  \n",
              "2                    1                          Low        1995  Winter  \n",
              "3                    4                          Low    09  2012    Fall  \n",
              "4                    2                         High    01  2010  Summer  "
            ],
            "text/html": [
              "\n",
              "  <div id=\"df-f7ecca9d-a75c-4205-981c-9837c70a96fe\" class=\"colab-df-container\">\n",
              "    <div>\n",
              "<style scoped>\n",
              "    .dataframe tbody tr th:only-of-type {\n",
              "        vertical-align: middle;\n",
              "    }\n",
              "\n",
              "    .dataframe tbody tr th {\n",
              "        vertical-align: top;\n",
              "    }\n",
              "\n",
              "    .dataframe thead th {\n",
              "        text-align: right;\n",
              "    }\n",
              "</style>\n",
              "<table border=\"1\" class=\"dataframe\">\n",
              "  <thead>\n",
              "    <tr style=\"text-align: right;\">\n",
              "      <th></th>\n",
              "      <th>Customer_ID</th>\n",
              "      <th>Age</th>\n",
              "      <th>Gender</th>\n",
              "      <th>Income_Level</th>\n",
              "      <th>Address</th>\n",
              "      <th>Transaction_ID</th>\n",
              "      <th>Purchase_Date</th>\n",
              "      <th>Product_ID</th>\n",
              "      <th>Product_Category</th>\n",
              "      <th>Brand</th>\n",
              "      <th>Purchase_Amount</th>\n",
              "      <th>Average_Spending_Per_Purchase</th>\n",
              "      <th>Purchase_Frequency_Per_Month</th>\n",
              "      <th>Brand_Affinity_Score</th>\n",
              "      <th>Product_Category_Preferences</th>\n",
              "      <th>Month</th>\n",
              "      <th>Year</th>\n",
              "      <th>Season</th>\n",
              "    </tr>\n",
              "  </thead>\n",
              "  <tbody>\n",
              "    <tr>\n",
              "      <th>0</th>\n",
              "      <td>b81ee6c9-2ae4-48a7-b283-220eaa244f43</td>\n",
              "      <td>40</td>\n",
              "      <td>Female</td>\n",
              "      <td>Medium</td>\n",
              "      <td>43548 Murray Islands Suite 974\\nAmyberg, CT 13457</td>\n",
              "      <td>c6a6c712-e36b-406a-bfde-f53bdcf4744f</td>\n",
              "      <td>2022-04-26</td>\n",
              "      <td>d2f767d6-b01a-41a2-87f7-ec1d1186f50e</td>\n",
              "      <td>Clothing</td>\n",
              "      <td>Brand_C</td>\n",
              "      <td>193</td>\n",
              "      <td>59</td>\n",
              "      <td>2</td>\n",
              "      <td>2</td>\n",
              "      <td>Low</td>\n",
              "      <td>01</td>\n",
              "      <td>2010</td>\n",
              "      <td>Winter</td>\n",
              "    </tr>\n",
              "    <tr>\n",
              "      <th>1</th>\n",
              "      <td></td>\n",
              "      <td>25</td>\n",
              "      <td>Male</td>\n",
              "      <td>High</td>\n",
              "      <td></td>\n",
              "      <td>0b587838-1e4f-4231-b488-42bcd47c052a</td>\n",
              "      <td>2021-08-10</td>\n",
              "      <td>79eadc55-2de1-41cf-b1b6-40118c0bf8ec</td>\n",
              "      <td>Books</td>\n",
              "      <td>Brand_A</td>\n",
              "      <td>318</td>\n",
              "      <td>77</td>\n",
              "      <td>2</td>\n",
              "      <td>1</td>\n",
              "      <td>Low</td>\n",
              "      <td>08</td>\n",
              "      <td>1989</td>\n",
              "      <td>Fall</td>\n",
              "    </tr>\n",
              "    <tr>\n",
              "      <th>2</th>\n",
              "      <td>fdf79bcd-5908-4c90-8501-570ffb5b7648</td>\n",
              "      <td>57</td>\n",
              "      <td>Other</td>\n",
              "      <td>Low</td>\n",
              "      <td>79683 Kevin Hill Apt. 555\\nJohnshire, AR 39961</td>\n",
              "      <td>462925b1-a5bf-4996-bda2-59749de64eea</td>\n",
              "      <td>2021-12-09</td>\n",
              "      <td>9ab75a68-4329-4bd9-a259-2233c0f34c93</td>\n",
              "      <td>Electronics</td>\n",
              "      <td>Brand_A</td>\n",
              "      <td>197</td>\n",
              "      <td>100</td>\n",
              "      <td>9</td>\n",
              "      <td>1</td>\n",
              "      <td>Low</td>\n",
              "      <td></td>\n",
              "      <td>1995</td>\n",
              "      <td>Winter</td>\n",
              "    </tr>\n",
              "    <tr>\n",
              "      <th>3</th>\n",
              "      <td>878dccba-893a-48f9-8d34-6ed394fa3c9c</td>\n",
              "      <td>38</td>\n",
              "      <td>Female</td>\n",
              "      <td>Medium</td>\n",
              "      <td>02998 Hall Meadows Suite 809\\nNorth Robertvill...</td>\n",
              "      <td>3cfafa02-6b34-4d77-9e05-d223dfab64e8</td>\n",
              "      <td>2022-12-03</td>\n",
              "      <td>d518569b-ff79-494b-b2b6-7e2af39db86a</td>\n",
              "      <td>Clothing</td>\n",
              "      <td>Brand_C</td>\n",
              "      <td>262</td>\n",
              "      <td>97</td>\n",
              "      <td>3</td>\n",
              "      <td>4</td>\n",
              "      <td>Low</td>\n",
              "      <td>09</td>\n",
              "      <td>2012</td>\n",
              "      <td>Fall</td>\n",
              "    </tr>\n",
              "    <tr>\n",
              "      <th>4</th>\n",
              "      <td>0af0bd81-73cc-494e-aa5e-75c6d0b6d743</td>\n",
              "      <td>68</td>\n",
              "      <td>Other</td>\n",
              "      <td>Medium</td>\n",
              "      <td>21411 Timothy Ford Apt. 320\\nDavisborough, AR ...</td>\n",
              "      <td>0d8dc27a-0c8f-4a82-b57e-8bf54cee9759</td>\n",
              "      <td>2020-06-08</td>\n",
              "      <td>b6deac9d-2b7e-4a51-8273-a6534910b3bc</td>\n",
              "      <td>Books</td>\n",
              "      <td>Brand_B</td>\n",
              "      <td>429</td>\n",
              "      <td>85</td>\n",
              "      <td>7</td>\n",
              "      <td>2</td>\n",
              "      <td>High</td>\n",
              "      <td>01</td>\n",
              "      <td>2010</td>\n",
              "      <td>Summer</td>\n",
              "    </tr>\n",
              "  </tbody>\n",
              "</table>\n",
              "</div>\n",
              "    <div class=\"colab-df-buttons\">\n",
              "\n",
              "  <div class=\"colab-df-container\">\n",
              "    <button class=\"colab-df-convert\" onclick=\"convertToInteractive('df-f7ecca9d-a75c-4205-981c-9837c70a96fe')\"\n",
              "            title=\"Convert this dataframe to an interactive table.\"\n",
              "            style=\"display:none;\">\n",
              "\n",
              "  <svg xmlns=\"http://www.w3.org/2000/svg\" height=\"24px\" viewBox=\"0 -960 960 960\">\n",
              "    <path d=\"M120-120v-720h720v720H120Zm60-500h600v-160H180v160Zm220 220h160v-160H400v160Zm0 220h160v-160H400v160ZM180-400h160v-160H180v160Zm440 0h160v-160H620v160ZM180-180h160v-160H180v160Zm440 0h160v-160H620v160Z\"/>\n",
              "  </svg>\n",
              "    </button>\n",
              "\n",
              "  <style>\n",
              "    .colab-df-container {\n",
              "      display:flex;\n",
              "      gap: 12px;\n",
              "    }\n",
              "\n",
              "    .colab-df-convert {\n",
              "      background-color: #E8F0FE;\n",
              "      border: none;\n",
              "      border-radius: 50%;\n",
              "      cursor: pointer;\n",
              "      display: none;\n",
              "      fill: #1967D2;\n",
              "      height: 32px;\n",
              "      padding: 0 0 0 0;\n",
              "      width: 32px;\n",
              "    }\n",
              "\n",
              "    .colab-df-convert:hover {\n",
              "      background-color: #E2EBFA;\n",
              "      box-shadow: 0px 1px 2px rgba(60, 64, 67, 0.3), 0px 1px 3px 1px rgba(60, 64, 67, 0.15);\n",
              "      fill: #174EA6;\n",
              "    }\n",
              "\n",
              "    .colab-df-buttons div {\n",
              "      margin-bottom: 4px;\n",
              "    }\n",
              "\n",
              "    [theme=dark] .colab-df-convert {\n",
              "      background-color: #3B4455;\n",
              "      fill: #D2E3FC;\n",
              "    }\n",
              "\n",
              "    [theme=dark] .colab-df-convert:hover {\n",
              "      background-color: #434B5C;\n",
              "      box-shadow: 0px 1px 3px 1px rgba(0, 0, 0, 0.15);\n",
              "      filter: drop-shadow(0px 1px 2px rgba(0, 0, 0, 0.3));\n",
              "      fill: #FFFFFF;\n",
              "    }\n",
              "  </style>\n",
              "\n",
              "    <script>\n",
              "      const buttonEl =\n",
              "        document.querySelector('#df-f7ecca9d-a75c-4205-981c-9837c70a96fe button.colab-df-convert');\n",
              "      buttonEl.style.display =\n",
              "        google.colab.kernel.accessAllowed ? 'block' : 'none';\n",
              "\n",
              "      async function convertToInteractive(key) {\n",
              "        const element = document.querySelector('#df-f7ecca9d-a75c-4205-981c-9837c70a96fe');\n",
              "        const dataTable =\n",
              "          await google.colab.kernel.invokeFunction('convertToInteractive',\n",
              "                                                    [key], {});\n",
              "        if (!dataTable) return;\n",
              "\n",
              "        const docLinkHtml = 'Like what you see? Visit the ' +\n",
              "          '<a target=\"_blank\" href=https://colab.research.google.com/notebooks/data_table.ipynb>data table notebook</a>'\n",
              "          + ' to learn more about interactive tables.';\n",
              "        element.innerHTML = '';\n",
              "        dataTable['output_type'] = 'display_data';\n",
              "        await google.colab.output.renderOutput(dataTable, element);\n",
              "        const docLink = document.createElement('div');\n",
              "        docLink.innerHTML = docLinkHtml;\n",
              "        element.appendChild(docLink);\n",
              "      }\n",
              "    </script>\n",
              "  </div>\n",
              "\n",
              "\n",
              "<div id=\"df-1471fc16-718c-4f9b-9fd2-339d320e0399\">\n",
              "  <button class=\"colab-df-quickchart\" onclick=\"quickchart('df-1471fc16-718c-4f9b-9fd2-339d320e0399')\"\n",
              "            title=\"Suggest charts\"\n",
              "            style=\"display:none;\">\n",
              "\n",
              "<svg xmlns=\"http://www.w3.org/2000/svg\" height=\"24px\"viewBox=\"0 0 24 24\"\n",
              "     width=\"24px\">\n",
              "    <g>\n",
              "        <path d=\"M19 3H5c-1.1 0-2 .9-2 2v14c0 1.1.9 2 2 2h14c1.1 0 2-.9 2-2V5c0-1.1-.9-2-2-2zM9 17H7v-7h2v7zm4 0h-2V7h2v10zm4 0h-2v-4h2v4z\"/>\n",
              "    </g>\n",
              "</svg>\n",
              "  </button>\n",
              "\n",
              "<style>\n",
              "  .colab-df-quickchart {\n",
              "      --bg-color: #E8F0FE;\n",
              "      --fill-color: #1967D2;\n",
              "      --hover-bg-color: #E2EBFA;\n",
              "      --hover-fill-color: #174EA6;\n",
              "      --disabled-fill-color: #AAA;\n",
              "      --disabled-bg-color: #DDD;\n",
              "  }\n",
              "\n",
              "  [theme=dark] .colab-df-quickchart {\n",
              "      --bg-color: #3B4455;\n",
              "      --fill-color: #D2E3FC;\n",
              "      --hover-bg-color: #434B5C;\n",
              "      --hover-fill-color: #FFFFFF;\n",
              "      --disabled-bg-color: #3B4455;\n",
              "      --disabled-fill-color: #666;\n",
              "  }\n",
              "\n",
              "  .colab-df-quickchart {\n",
              "    background-color: var(--bg-color);\n",
              "    border: none;\n",
              "    border-radius: 50%;\n",
              "    cursor: pointer;\n",
              "    display: none;\n",
              "    fill: var(--fill-color);\n",
              "    height: 32px;\n",
              "    padding: 0;\n",
              "    width: 32px;\n",
              "  }\n",
              "\n",
              "  .colab-df-quickchart:hover {\n",
              "    background-color: var(--hover-bg-color);\n",
              "    box-shadow: 0 1px 2px rgba(60, 64, 67, 0.3), 0 1px 3px 1px rgba(60, 64, 67, 0.15);\n",
              "    fill: var(--button-hover-fill-color);\n",
              "  }\n",
              "\n",
              "  .colab-df-quickchart-complete:disabled,\n",
              "  .colab-df-quickchart-complete:disabled:hover {\n",
              "    background-color: var(--disabled-bg-color);\n",
              "    fill: var(--disabled-fill-color);\n",
              "    box-shadow: none;\n",
              "  }\n",
              "\n",
              "  .colab-df-spinner {\n",
              "    border: 2px solid var(--fill-color);\n",
              "    border-color: transparent;\n",
              "    border-bottom-color: var(--fill-color);\n",
              "    animation:\n",
              "      spin 1s steps(1) infinite;\n",
              "  }\n",
              "\n",
              "  @keyframes spin {\n",
              "    0% {\n",
              "      border-color: transparent;\n",
              "      border-bottom-color: var(--fill-color);\n",
              "      border-left-color: var(--fill-color);\n",
              "    }\n",
              "    20% {\n",
              "      border-color: transparent;\n",
              "      border-left-color: var(--fill-color);\n",
              "      border-top-color: var(--fill-color);\n",
              "    }\n",
              "    30% {\n",
              "      border-color: transparent;\n",
              "      border-left-color: var(--fill-color);\n",
              "      border-top-color: var(--fill-color);\n",
              "      border-right-color: var(--fill-color);\n",
              "    }\n",
              "    40% {\n",
              "      border-color: transparent;\n",
              "      border-right-color: var(--fill-color);\n",
              "      border-top-color: var(--fill-color);\n",
              "    }\n",
              "    60% {\n",
              "      border-color: transparent;\n",
              "      border-right-color: var(--fill-color);\n",
              "    }\n",
              "    80% {\n",
              "      border-color: transparent;\n",
              "      border-right-color: var(--fill-color);\n",
              "      border-bottom-color: var(--fill-color);\n",
              "    }\n",
              "    90% {\n",
              "      border-color: transparent;\n",
              "      border-bottom-color: var(--fill-color);\n",
              "    }\n",
              "  }\n",
              "</style>\n",
              "\n",
              "  <script>\n",
              "    async function quickchart(key) {\n",
              "      const quickchartButtonEl =\n",
              "        document.querySelector('#' + key + ' button');\n",
              "      quickchartButtonEl.disabled = true;  // To prevent multiple clicks.\n",
              "      quickchartButtonEl.classList.add('colab-df-spinner');\n",
              "      try {\n",
              "        const charts = await google.colab.kernel.invokeFunction(\n",
              "            'suggestCharts', [key], {});\n",
              "      } catch (error) {\n",
              "        console.error('Error during call to suggestCharts:', error);\n",
              "      }\n",
              "      quickchartButtonEl.classList.remove('colab-df-spinner');\n",
              "      quickchartButtonEl.classList.add('colab-df-quickchart-complete');\n",
              "    }\n",
              "    (() => {\n",
              "      let quickchartButtonEl =\n",
              "        document.querySelector('#df-1471fc16-718c-4f9b-9fd2-339d320e0399 button');\n",
              "      quickchartButtonEl.style.display =\n",
              "        google.colab.kernel.accessAllowed ? 'block' : 'none';\n",
              "    })();\n",
              "  </script>\n",
              "</div>\n",
              "\n",
              "    </div>\n",
              "  </div>\n"
            ]
          },
          "metadata": {},
          "execution_count": 3
        }
      ]
    },
    {
      "cell_type": "markdown",
      "source": [
        "# Analyzing Datatypes"
      ],
      "metadata": {
        "id": "kbB75b5eFqT6"
      }
    },
    {
      "cell_type": "markdown",
      "source": [
        "Before doing any analyis, it is important to analyze the datatypes of dataset. Due to a different methodology of reading the dataset, We can clearly see that every feature is shown as \"object\" right now. We need to change these columns accordingly."
      ],
      "metadata": {
        "id": "BmevNII6ET8T"
      }
    },
    {
      "cell_type": "code",
      "source": [
        "# Get the data types of all columns\n",
        "print(data.dtypes)"
      ],
      "metadata": {
        "colab": {
          "base_uri": "https://localhost:8080/"
        },
        "id": "TyPdIJiUD3HE",
        "outputId": "3b996a29-9323-4572-f71c-311f34d720e2"
      },
      "execution_count": null,
      "outputs": [
        {
          "output_type": "stream",
          "name": "stdout",
          "text": [
            "Customer_ID                      object\n",
            "Age                              object\n",
            "Gender                           object\n",
            "Income_Level                     object\n",
            "Address                          object\n",
            "Transaction_ID                   object\n",
            "Purchase_Date                    object\n",
            "Product_ID                       object\n",
            "Product_Category                 object\n",
            "Brand                            object\n",
            "Purchase_Amount                  object\n",
            "Average_Spending_Per_Purchase    object\n",
            "Purchase_Frequency_Per_Month     object\n",
            "Brand_Affinity_Score             object\n",
            "Product_Category_Preferences     object\n",
            "Month                            object\n",
            "Year                             object\n",
            "Season                           object\n",
            "dtype: object\n"
          ]
        }
      ]
    },
    {
      "cell_type": "markdown",
      "source": [
        "## Conversion of Datatypes\n",
        "The manual verification of dataset shows that there are some categorical (qualitative) features however there are some numerical (quantitative) features. We will convert them accordingly."
      ],
      "metadata": {
        "id": "rulArxcBF063"
      }
    },
    {
      "cell_type": "code",
      "source": [
        "# Convert numerical columns to numeric type\n",
        "numerical_columns = ['Age', 'Purchase_Amount', 'Average_Spending_Per_Purchase',\n",
        "                     'Purchase_Frequency_Per_Month', 'Brand_Affinity_Score']\n",
        "data[numerical_columns] = data[numerical_columns].apply(pd.to_numeric, errors='coerce')\n",
        "\n",
        "# Convert 'Purchase_Date' to datetime\n",
        "data['Purchase_Date'] = pd.to_datetime(data['Purchase_Date'], errors='coerce')\n",
        "\n",
        "# Convert categorical columns to 'category' data type\n",
        "categorical_columns = ['Gender', 'Income_Level', 'Product_Category', 'Brand',\n",
        "                       'Product_Category_Preferences', 'Season']\n",
        "data[categorical_columns] = data[categorical_columns].astype('category')\n",
        "\n",
        "data['Month'] = pd.to_numeric(data['Month'], errors='coerce').astype('Int64')\n",
        "data['Year'] = pd.to_numeric(data['Year'], errors='coerce').astype('Int64')\n",
        "\n",
        "print(data.dtypes)"
      ],
      "metadata": {
        "colab": {
          "base_uri": "https://localhost:8080/"
        },
        "id": "6AibIIimEku8",
        "outputId": "08df8256-3393-4a21-cc26-24db222e7f34"
      },
      "execution_count": null,
      "outputs": [
        {
          "output_type": "stream",
          "name": "stdout",
          "text": [
            "Customer_ID                              object\n",
            "Age                                     float64\n",
            "Gender                                 category\n",
            "Income_Level                           category\n",
            "Address                                  object\n",
            "Transaction_ID                           object\n",
            "Purchase_Date                    datetime64[ns]\n",
            "Product_ID                               object\n",
            "Product_Category                       category\n",
            "Brand                                  category\n",
            "Purchase_Amount                         float64\n",
            "Average_Spending_Per_Purchase           float64\n",
            "Purchase_Frequency_Per_Month            float64\n",
            "Brand_Affinity_Score                    float64\n",
            "Product_Category_Preferences           category\n",
            "Month                                     Int64\n",
            "Year                                      Int64\n",
            "Season                                 category\n",
            "dtype: object\n"
          ]
        }
      ]
    },
    {
      "cell_type": "code",
      "source": [
        "data.head()"
      ],
      "metadata": {
        "colab": {
          "base_uri": "https://localhost:8080/",
          "height": 487
        },
        "id": "w_aD1ItvFJt-",
        "outputId": "d9b6db22-71e6-4fe6-9c26-4ed62c89abb3"
      },
      "execution_count": null,
      "outputs": [
        {
          "output_type": "execute_result",
          "data": {
            "text/plain": [
              "                            Customer_ID   Age  Gender Income_Level  \\\n",
              "0  b81ee6c9-2ae4-48a7-b283-220eaa244f43  40.0  Female       Medium   \n",
              "1                                        25.0    Male         High   \n",
              "2  fdf79bcd-5908-4c90-8501-570ffb5b7648  57.0   Other          Low   \n",
              "3  878dccba-893a-48f9-8d34-6ed394fa3c9c  38.0  Female       Medium   \n",
              "4  0af0bd81-73cc-494e-aa5e-75c6d0b6d743  68.0   Other       Medium   \n",
              "\n",
              "                                             Address  \\\n",
              "0  43548 Murray Islands Suite 974\\nAmyberg, CT 13457   \n",
              "1                                                      \n",
              "2     79683 Kevin Hill Apt. 555\\nJohnshire, AR 39961   \n",
              "3  02998 Hall Meadows Suite 809\\nNorth Robertvill...   \n",
              "4  21411 Timothy Ford Apt. 320\\nDavisborough, AR ...   \n",
              "\n",
              "                         Transaction_ID Purchase_Date  \\\n",
              "0  c6a6c712-e36b-406a-bfde-f53bdcf4744f    2022-04-26   \n",
              "1  0b587838-1e4f-4231-b488-42bcd47c052a    2021-08-10   \n",
              "2  462925b1-a5bf-4996-bda2-59749de64eea    2021-12-09   \n",
              "3  3cfafa02-6b34-4d77-9e05-d223dfab64e8    2022-12-03   \n",
              "4  0d8dc27a-0c8f-4a82-b57e-8bf54cee9759    2020-06-08   \n",
              "\n",
              "                             Product_ID Product_Category    Brand  \\\n",
              "0  d2f767d6-b01a-41a2-87f7-ec1d1186f50e         Clothing  Brand_C   \n",
              "1  79eadc55-2de1-41cf-b1b6-40118c0bf8ec            Books  Brand_A   \n",
              "2  9ab75a68-4329-4bd9-a259-2233c0f34c93      Electronics  Brand_A   \n",
              "3  d518569b-ff79-494b-b2b6-7e2af39db86a         Clothing  Brand_C   \n",
              "4  b6deac9d-2b7e-4a51-8273-a6534910b3bc            Books  Brand_B   \n",
              "\n",
              "   Purchase_Amount  Average_Spending_Per_Purchase  \\\n",
              "0            193.0                           59.0   \n",
              "1            318.0                           77.0   \n",
              "2            197.0                          100.0   \n",
              "3            262.0                           97.0   \n",
              "4            429.0                           85.0   \n",
              "\n",
              "   Purchase_Frequency_Per_Month  Brand_Affinity_Score  \\\n",
              "0                           2.0                   2.0   \n",
              "1                           2.0                   1.0   \n",
              "2                           9.0                   1.0   \n",
              "3                           3.0                   4.0   \n",
              "4                           7.0                   2.0   \n",
              "\n",
              "  Product_Category_Preferences  Month  Year  Season  \n",
              "0                          Low      1  2010  Winter  \n",
              "1                          Low      8  1989    Fall  \n",
              "2                          Low   <NA>  1995  Winter  \n",
              "3                          Low      9  2012    Fall  \n",
              "4                         High      1  2010  Summer  "
            ],
            "text/html": [
              "\n",
              "  <div id=\"df-5b6219cd-e3ab-4d65-aea1-3f27e1a025c7\" class=\"colab-df-container\">\n",
              "    <div>\n",
              "<style scoped>\n",
              "    .dataframe tbody tr th:only-of-type {\n",
              "        vertical-align: middle;\n",
              "    }\n",
              "\n",
              "    .dataframe tbody tr th {\n",
              "        vertical-align: top;\n",
              "    }\n",
              "\n",
              "    .dataframe thead th {\n",
              "        text-align: right;\n",
              "    }\n",
              "</style>\n",
              "<table border=\"1\" class=\"dataframe\">\n",
              "  <thead>\n",
              "    <tr style=\"text-align: right;\">\n",
              "      <th></th>\n",
              "      <th>Customer_ID</th>\n",
              "      <th>Age</th>\n",
              "      <th>Gender</th>\n",
              "      <th>Income_Level</th>\n",
              "      <th>Address</th>\n",
              "      <th>Transaction_ID</th>\n",
              "      <th>Purchase_Date</th>\n",
              "      <th>Product_ID</th>\n",
              "      <th>Product_Category</th>\n",
              "      <th>Brand</th>\n",
              "      <th>Purchase_Amount</th>\n",
              "      <th>Average_Spending_Per_Purchase</th>\n",
              "      <th>Purchase_Frequency_Per_Month</th>\n",
              "      <th>Brand_Affinity_Score</th>\n",
              "      <th>Product_Category_Preferences</th>\n",
              "      <th>Month</th>\n",
              "      <th>Year</th>\n",
              "      <th>Season</th>\n",
              "    </tr>\n",
              "  </thead>\n",
              "  <tbody>\n",
              "    <tr>\n",
              "      <th>0</th>\n",
              "      <td>b81ee6c9-2ae4-48a7-b283-220eaa244f43</td>\n",
              "      <td>40.0</td>\n",
              "      <td>Female</td>\n",
              "      <td>Medium</td>\n",
              "      <td>43548 Murray Islands Suite 974\\nAmyberg, CT 13457</td>\n",
              "      <td>c6a6c712-e36b-406a-bfde-f53bdcf4744f</td>\n",
              "      <td>2022-04-26</td>\n",
              "      <td>d2f767d6-b01a-41a2-87f7-ec1d1186f50e</td>\n",
              "      <td>Clothing</td>\n",
              "      <td>Brand_C</td>\n",
              "      <td>193.0</td>\n",
              "      <td>59.0</td>\n",
              "      <td>2.0</td>\n",
              "      <td>2.0</td>\n",
              "      <td>Low</td>\n",
              "      <td>1</td>\n",
              "      <td>2010</td>\n",
              "      <td>Winter</td>\n",
              "    </tr>\n",
              "    <tr>\n",
              "      <th>1</th>\n",
              "      <td></td>\n",
              "      <td>25.0</td>\n",
              "      <td>Male</td>\n",
              "      <td>High</td>\n",
              "      <td></td>\n",
              "      <td>0b587838-1e4f-4231-b488-42bcd47c052a</td>\n",
              "      <td>2021-08-10</td>\n",
              "      <td>79eadc55-2de1-41cf-b1b6-40118c0bf8ec</td>\n",
              "      <td>Books</td>\n",
              "      <td>Brand_A</td>\n",
              "      <td>318.0</td>\n",
              "      <td>77.0</td>\n",
              "      <td>2.0</td>\n",
              "      <td>1.0</td>\n",
              "      <td>Low</td>\n",
              "      <td>8</td>\n",
              "      <td>1989</td>\n",
              "      <td>Fall</td>\n",
              "    </tr>\n",
              "    <tr>\n",
              "      <th>2</th>\n",
              "      <td>fdf79bcd-5908-4c90-8501-570ffb5b7648</td>\n",
              "      <td>57.0</td>\n",
              "      <td>Other</td>\n",
              "      <td>Low</td>\n",
              "      <td>79683 Kevin Hill Apt. 555\\nJohnshire, AR 39961</td>\n",
              "      <td>462925b1-a5bf-4996-bda2-59749de64eea</td>\n",
              "      <td>2021-12-09</td>\n",
              "      <td>9ab75a68-4329-4bd9-a259-2233c0f34c93</td>\n",
              "      <td>Electronics</td>\n",
              "      <td>Brand_A</td>\n",
              "      <td>197.0</td>\n",
              "      <td>100.0</td>\n",
              "      <td>9.0</td>\n",
              "      <td>1.0</td>\n",
              "      <td>Low</td>\n",
              "      <td>&lt;NA&gt;</td>\n",
              "      <td>1995</td>\n",
              "      <td>Winter</td>\n",
              "    </tr>\n",
              "    <tr>\n",
              "      <th>3</th>\n",
              "      <td>878dccba-893a-48f9-8d34-6ed394fa3c9c</td>\n",
              "      <td>38.0</td>\n",
              "      <td>Female</td>\n",
              "      <td>Medium</td>\n",
              "      <td>02998 Hall Meadows Suite 809\\nNorth Robertvill...</td>\n",
              "      <td>3cfafa02-6b34-4d77-9e05-d223dfab64e8</td>\n",
              "      <td>2022-12-03</td>\n",
              "      <td>d518569b-ff79-494b-b2b6-7e2af39db86a</td>\n",
              "      <td>Clothing</td>\n",
              "      <td>Brand_C</td>\n",
              "      <td>262.0</td>\n",
              "      <td>97.0</td>\n",
              "      <td>3.0</td>\n",
              "      <td>4.0</td>\n",
              "      <td>Low</td>\n",
              "      <td>9</td>\n",
              "      <td>2012</td>\n",
              "      <td>Fall</td>\n",
              "    </tr>\n",
              "    <tr>\n",
              "      <th>4</th>\n",
              "      <td>0af0bd81-73cc-494e-aa5e-75c6d0b6d743</td>\n",
              "      <td>68.0</td>\n",
              "      <td>Other</td>\n",
              "      <td>Medium</td>\n",
              "      <td>21411 Timothy Ford Apt. 320\\nDavisborough, AR ...</td>\n",
              "      <td>0d8dc27a-0c8f-4a82-b57e-8bf54cee9759</td>\n",
              "      <td>2020-06-08</td>\n",
              "      <td>b6deac9d-2b7e-4a51-8273-a6534910b3bc</td>\n",
              "      <td>Books</td>\n",
              "      <td>Brand_B</td>\n",
              "      <td>429.0</td>\n",
              "      <td>85.0</td>\n",
              "      <td>7.0</td>\n",
              "      <td>2.0</td>\n",
              "      <td>High</td>\n",
              "      <td>1</td>\n",
              "      <td>2010</td>\n",
              "      <td>Summer</td>\n",
              "    </tr>\n",
              "  </tbody>\n",
              "</table>\n",
              "</div>\n",
              "    <div class=\"colab-df-buttons\">\n",
              "\n",
              "  <div class=\"colab-df-container\">\n",
              "    <button class=\"colab-df-convert\" onclick=\"convertToInteractive('df-5b6219cd-e3ab-4d65-aea1-3f27e1a025c7')\"\n",
              "            title=\"Convert this dataframe to an interactive table.\"\n",
              "            style=\"display:none;\">\n",
              "\n",
              "  <svg xmlns=\"http://www.w3.org/2000/svg\" height=\"24px\" viewBox=\"0 -960 960 960\">\n",
              "    <path d=\"M120-120v-720h720v720H120Zm60-500h600v-160H180v160Zm220 220h160v-160H400v160Zm0 220h160v-160H400v160ZM180-400h160v-160H180v160Zm440 0h160v-160H620v160ZM180-180h160v-160H180v160Zm440 0h160v-160H620v160Z\"/>\n",
              "  </svg>\n",
              "    </button>\n",
              "\n",
              "  <style>\n",
              "    .colab-df-container {\n",
              "      display:flex;\n",
              "      gap: 12px;\n",
              "    }\n",
              "\n",
              "    .colab-df-convert {\n",
              "      background-color: #E8F0FE;\n",
              "      border: none;\n",
              "      border-radius: 50%;\n",
              "      cursor: pointer;\n",
              "      display: none;\n",
              "      fill: #1967D2;\n",
              "      height: 32px;\n",
              "      padding: 0 0 0 0;\n",
              "      width: 32px;\n",
              "    }\n",
              "\n",
              "    .colab-df-convert:hover {\n",
              "      background-color: #E2EBFA;\n",
              "      box-shadow: 0px 1px 2px rgba(60, 64, 67, 0.3), 0px 1px 3px 1px rgba(60, 64, 67, 0.15);\n",
              "      fill: #174EA6;\n",
              "    }\n",
              "\n",
              "    .colab-df-buttons div {\n",
              "      margin-bottom: 4px;\n",
              "    }\n",
              "\n",
              "    [theme=dark] .colab-df-convert {\n",
              "      background-color: #3B4455;\n",
              "      fill: #D2E3FC;\n",
              "    }\n",
              "\n",
              "    [theme=dark] .colab-df-convert:hover {\n",
              "      background-color: #434B5C;\n",
              "      box-shadow: 0px 1px 3px 1px rgba(0, 0, 0, 0.15);\n",
              "      filter: drop-shadow(0px 1px 2px rgba(0, 0, 0, 0.3));\n",
              "      fill: #FFFFFF;\n",
              "    }\n",
              "  </style>\n",
              "\n",
              "    <script>\n",
              "      const buttonEl =\n",
              "        document.querySelector('#df-5b6219cd-e3ab-4d65-aea1-3f27e1a025c7 button.colab-df-convert');\n",
              "      buttonEl.style.display =\n",
              "        google.colab.kernel.accessAllowed ? 'block' : 'none';\n",
              "\n",
              "      async function convertToInteractive(key) {\n",
              "        const element = document.querySelector('#df-5b6219cd-e3ab-4d65-aea1-3f27e1a025c7');\n",
              "        const dataTable =\n",
              "          await google.colab.kernel.invokeFunction('convertToInteractive',\n",
              "                                                    [key], {});\n",
              "        if (!dataTable) return;\n",
              "\n",
              "        const docLinkHtml = 'Like what you see? Visit the ' +\n",
              "          '<a target=\"_blank\" href=https://colab.research.google.com/notebooks/data_table.ipynb>data table notebook</a>'\n",
              "          + ' to learn more about interactive tables.';\n",
              "        element.innerHTML = '';\n",
              "        dataTable['output_type'] = 'display_data';\n",
              "        await google.colab.output.renderOutput(dataTable, element);\n",
              "        const docLink = document.createElement('div');\n",
              "        docLink.innerHTML = docLinkHtml;\n",
              "        element.appendChild(docLink);\n",
              "      }\n",
              "    </script>\n",
              "  </div>\n",
              "\n",
              "\n",
              "<div id=\"df-5856ea39-20e5-44aa-ae3b-0996da33c60d\">\n",
              "  <button class=\"colab-df-quickchart\" onclick=\"quickchart('df-5856ea39-20e5-44aa-ae3b-0996da33c60d')\"\n",
              "            title=\"Suggest charts\"\n",
              "            style=\"display:none;\">\n",
              "\n",
              "<svg xmlns=\"http://www.w3.org/2000/svg\" height=\"24px\"viewBox=\"0 0 24 24\"\n",
              "     width=\"24px\">\n",
              "    <g>\n",
              "        <path d=\"M19 3H5c-1.1 0-2 .9-2 2v14c0 1.1.9 2 2 2h14c1.1 0 2-.9 2-2V5c0-1.1-.9-2-2-2zM9 17H7v-7h2v7zm4 0h-2V7h2v10zm4 0h-2v-4h2v4z\"/>\n",
              "    </g>\n",
              "</svg>\n",
              "  </button>\n",
              "\n",
              "<style>\n",
              "  .colab-df-quickchart {\n",
              "      --bg-color: #E8F0FE;\n",
              "      --fill-color: #1967D2;\n",
              "      --hover-bg-color: #E2EBFA;\n",
              "      --hover-fill-color: #174EA6;\n",
              "      --disabled-fill-color: #AAA;\n",
              "      --disabled-bg-color: #DDD;\n",
              "  }\n",
              "\n",
              "  [theme=dark] .colab-df-quickchart {\n",
              "      --bg-color: #3B4455;\n",
              "      --fill-color: #D2E3FC;\n",
              "      --hover-bg-color: #434B5C;\n",
              "      --hover-fill-color: #FFFFFF;\n",
              "      --disabled-bg-color: #3B4455;\n",
              "      --disabled-fill-color: #666;\n",
              "  }\n",
              "\n",
              "  .colab-df-quickchart {\n",
              "    background-color: var(--bg-color);\n",
              "    border: none;\n",
              "    border-radius: 50%;\n",
              "    cursor: pointer;\n",
              "    display: none;\n",
              "    fill: var(--fill-color);\n",
              "    height: 32px;\n",
              "    padding: 0;\n",
              "    width: 32px;\n",
              "  }\n",
              "\n",
              "  .colab-df-quickchart:hover {\n",
              "    background-color: var(--hover-bg-color);\n",
              "    box-shadow: 0 1px 2px rgba(60, 64, 67, 0.3), 0 1px 3px 1px rgba(60, 64, 67, 0.15);\n",
              "    fill: var(--button-hover-fill-color);\n",
              "  }\n",
              "\n",
              "  .colab-df-quickchart-complete:disabled,\n",
              "  .colab-df-quickchart-complete:disabled:hover {\n",
              "    background-color: var(--disabled-bg-color);\n",
              "    fill: var(--disabled-fill-color);\n",
              "    box-shadow: none;\n",
              "  }\n",
              "\n",
              "  .colab-df-spinner {\n",
              "    border: 2px solid var(--fill-color);\n",
              "    border-color: transparent;\n",
              "    border-bottom-color: var(--fill-color);\n",
              "    animation:\n",
              "      spin 1s steps(1) infinite;\n",
              "  }\n",
              "\n",
              "  @keyframes spin {\n",
              "    0% {\n",
              "      border-color: transparent;\n",
              "      border-bottom-color: var(--fill-color);\n",
              "      border-left-color: var(--fill-color);\n",
              "    }\n",
              "    20% {\n",
              "      border-color: transparent;\n",
              "      border-left-color: var(--fill-color);\n",
              "      border-top-color: var(--fill-color);\n",
              "    }\n",
              "    30% {\n",
              "      border-color: transparent;\n",
              "      border-left-color: var(--fill-color);\n",
              "      border-top-color: var(--fill-color);\n",
              "      border-right-color: var(--fill-color);\n",
              "    }\n",
              "    40% {\n",
              "      border-color: transparent;\n",
              "      border-right-color: var(--fill-color);\n",
              "      border-top-color: var(--fill-color);\n",
              "    }\n",
              "    60% {\n",
              "      border-color: transparent;\n",
              "      border-right-color: var(--fill-color);\n",
              "    }\n",
              "    80% {\n",
              "      border-color: transparent;\n",
              "      border-right-color: var(--fill-color);\n",
              "      border-bottom-color: var(--fill-color);\n",
              "    }\n",
              "    90% {\n",
              "      border-color: transparent;\n",
              "      border-bottom-color: var(--fill-color);\n",
              "    }\n",
              "  }\n",
              "</style>\n",
              "\n",
              "  <script>\n",
              "    async function quickchart(key) {\n",
              "      const quickchartButtonEl =\n",
              "        document.querySelector('#' + key + ' button');\n",
              "      quickchartButtonEl.disabled = true;  // To prevent multiple clicks.\n",
              "      quickchartButtonEl.classList.add('colab-df-spinner');\n",
              "      try {\n",
              "        const charts = await google.colab.kernel.invokeFunction(\n",
              "            'suggestCharts', [key], {});\n",
              "      } catch (error) {\n",
              "        console.error('Error during call to suggestCharts:', error);\n",
              "      }\n",
              "      quickchartButtonEl.classList.remove('colab-df-spinner');\n",
              "      quickchartButtonEl.classList.add('colab-df-quickchart-complete');\n",
              "    }\n",
              "    (() => {\n",
              "      let quickchartButtonEl =\n",
              "        document.querySelector('#df-5856ea39-20e5-44aa-ae3b-0996da33c60d button');\n",
              "      quickchartButtonEl.style.display =\n",
              "        google.colab.kernel.accessAllowed ? 'block' : 'none';\n",
              "    })();\n",
              "  </script>\n",
              "</div>\n",
              "\n",
              "    </div>\n",
              "  </div>\n"
            ]
          },
          "metadata": {},
          "execution_count": 6
        }
      ]
    },
    {
      "cell_type": "markdown",
      "source": [
        "# Descriptive Analysis\n",
        "A brief overview summary of descriptive analysis for the dataset is very important to understand the nature of dataset, specially to analyze the missing values."
      ],
      "metadata": {
        "id": "IC2E8xOOGo3X"
      }
    },
    {
      "cell_type": "code",
      "source": [
        "np.shape(data)"
      ],
      "metadata": {
        "colab": {
          "base_uri": "https://localhost:8080/"
        },
        "id": "OJj9drDFRipm",
        "outputId": "9a549c7e-59ab-48a4-9e19-30545efdc8c4"
      },
      "execution_count": null,
      "outputs": [
        {
          "output_type": "execute_result",
          "data": {
            "text/plain": [
              "(1000, 18)"
            ]
          },
          "metadata": {},
          "execution_count": 7
        }
      ]
    },
    {
      "cell_type": "code",
      "source": [
        "descriptive_stats = data.describe()\n",
        "descriptive_stats"
      ],
      "metadata": {
        "colab": {
          "base_uri": "https://localhost:8080/",
          "height": 300
        },
        "id": "MYRF6YGwDc54",
        "outputId": "28936102-c057-4bbf-b2a6-7019a1dceb0e"
      },
      "execution_count": null,
      "outputs": [
        {
          "output_type": "execute_result",
          "data": {
            "text/plain": [
              "              Age  Purchase_Amount  Average_Spending_Per_Purchase  \\\n",
              "count  960.000000       951.000000                     960.000000   \n",
              "mean    49.885417       250.629863                      51.603125   \n",
              "std     18.482283       141.017012                      27.104859   \n",
              "min     18.000000        10.000000                       5.000000   \n",
              "25%     34.000000       132.000000                      29.000000   \n",
              "50%     50.000000       246.000000                      50.000000   \n",
              "75%     66.000000       376.000000                      74.000000   \n",
              "max     80.000000       500.000000                     100.000000   \n",
              "\n",
              "       Purchase_Frequency_Per_Month  Brand_Affinity_Score     Month       Year  \n",
              "count                    945.000000            939.000000     947.0      948.0  \n",
              "mean                       5.437037              5.369542  6.564942     1997.0  \n",
              "std                        2.845325              2.843608  3.442791  15.509714  \n",
              "min                        1.000000              1.000000       1.0     1970.0  \n",
              "25%                        3.000000              3.000000       4.0     1984.0  \n",
              "50%                        5.000000              5.000000       6.0     1997.0  \n",
              "75%                        8.000000              8.000000      10.0     2011.0  \n",
              "max                       10.000000             10.000000      12.0     2023.0  "
            ],
            "text/html": [
              "\n",
              "  <div id=\"df-56a5dabb-3e68-4890-9cce-74ecd4c29fff\" class=\"colab-df-container\">\n",
              "    <div>\n",
              "<style scoped>\n",
              "    .dataframe tbody tr th:only-of-type {\n",
              "        vertical-align: middle;\n",
              "    }\n",
              "\n",
              "    .dataframe tbody tr th {\n",
              "        vertical-align: top;\n",
              "    }\n",
              "\n",
              "    .dataframe thead th {\n",
              "        text-align: right;\n",
              "    }\n",
              "</style>\n",
              "<table border=\"1\" class=\"dataframe\">\n",
              "  <thead>\n",
              "    <tr style=\"text-align: right;\">\n",
              "      <th></th>\n",
              "      <th>Age</th>\n",
              "      <th>Purchase_Amount</th>\n",
              "      <th>Average_Spending_Per_Purchase</th>\n",
              "      <th>Purchase_Frequency_Per_Month</th>\n",
              "      <th>Brand_Affinity_Score</th>\n",
              "      <th>Month</th>\n",
              "      <th>Year</th>\n",
              "    </tr>\n",
              "  </thead>\n",
              "  <tbody>\n",
              "    <tr>\n",
              "      <th>count</th>\n",
              "      <td>960.000000</td>\n",
              "      <td>951.000000</td>\n",
              "      <td>960.000000</td>\n",
              "      <td>945.000000</td>\n",
              "      <td>939.000000</td>\n",
              "      <td>947.0</td>\n",
              "      <td>948.0</td>\n",
              "    </tr>\n",
              "    <tr>\n",
              "      <th>mean</th>\n",
              "      <td>49.885417</td>\n",
              "      <td>250.629863</td>\n",
              "      <td>51.603125</td>\n",
              "      <td>5.437037</td>\n",
              "      <td>5.369542</td>\n",
              "      <td>6.564942</td>\n",
              "      <td>1997.0</td>\n",
              "    </tr>\n",
              "    <tr>\n",
              "      <th>std</th>\n",
              "      <td>18.482283</td>\n",
              "      <td>141.017012</td>\n",
              "      <td>27.104859</td>\n",
              "      <td>2.845325</td>\n",
              "      <td>2.843608</td>\n",
              "      <td>3.442791</td>\n",
              "      <td>15.509714</td>\n",
              "    </tr>\n",
              "    <tr>\n",
              "      <th>min</th>\n",
              "      <td>18.000000</td>\n",
              "      <td>10.000000</td>\n",
              "      <td>5.000000</td>\n",
              "      <td>1.000000</td>\n",
              "      <td>1.000000</td>\n",
              "      <td>1.0</td>\n",
              "      <td>1970.0</td>\n",
              "    </tr>\n",
              "    <tr>\n",
              "      <th>25%</th>\n",
              "      <td>34.000000</td>\n",
              "      <td>132.000000</td>\n",
              "      <td>29.000000</td>\n",
              "      <td>3.000000</td>\n",
              "      <td>3.000000</td>\n",
              "      <td>4.0</td>\n",
              "      <td>1984.0</td>\n",
              "    </tr>\n",
              "    <tr>\n",
              "      <th>50%</th>\n",
              "      <td>50.000000</td>\n",
              "      <td>246.000000</td>\n",
              "      <td>50.000000</td>\n",
              "      <td>5.000000</td>\n",
              "      <td>5.000000</td>\n",
              "      <td>6.0</td>\n",
              "      <td>1997.0</td>\n",
              "    </tr>\n",
              "    <tr>\n",
              "      <th>75%</th>\n",
              "      <td>66.000000</td>\n",
              "      <td>376.000000</td>\n",
              "      <td>74.000000</td>\n",
              "      <td>8.000000</td>\n",
              "      <td>8.000000</td>\n",
              "      <td>10.0</td>\n",
              "      <td>2011.0</td>\n",
              "    </tr>\n",
              "    <tr>\n",
              "      <th>max</th>\n",
              "      <td>80.000000</td>\n",
              "      <td>500.000000</td>\n",
              "      <td>100.000000</td>\n",
              "      <td>10.000000</td>\n",
              "      <td>10.000000</td>\n",
              "      <td>12.0</td>\n",
              "      <td>2023.0</td>\n",
              "    </tr>\n",
              "  </tbody>\n",
              "</table>\n",
              "</div>\n",
              "    <div class=\"colab-df-buttons\">\n",
              "\n",
              "  <div class=\"colab-df-container\">\n",
              "    <button class=\"colab-df-convert\" onclick=\"convertToInteractive('df-56a5dabb-3e68-4890-9cce-74ecd4c29fff')\"\n",
              "            title=\"Convert this dataframe to an interactive table.\"\n",
              "            style=\"display:none;\">\n",
              "\n",
              "  <svg xmlns=\"http://www.w3.org/2000/svg\" height=\"24px\" viewBox=\"0 -960 960 960\">\n",
              "    <path d=\"M120-120v-720h720v720H120Zm60-500h600v-160H180v160Zm220 220h160v-160H400v160Zm0 220h160v-160H400v160ZM180-400h160v-160H180v160Zm440 0h160v-160H620v160ZM180-180h160v-160H180v160Zm440 0h160v-160H620v160Z\"/>\n",
              "  </svg>\n",
              "    </button>\n",
              "\n",
              "  <style>\n",
              "    .colab-df-container {\n",
              "      display:flex;\n",
              "      gap: 12px;\n",
              "    }\n",
              "\n",
              "    .colab-df-convert {\n",
              "      background-color: #E8F0FE;\n",
              "      border: none;\n",
              "      border-radius: 50%;\n",
              "      cursor: pointer;\n",
              "      display: none;\n",
              "      fill: #1967D2;\n",
              "      height: 32px;\n",
              "      padding: 0 0 0 0;\n",
              "      width: 32px;\n",
              "    }\n",
              "\n",
              "    .colab-df-convert:hover {\n",
              "      background-color: #E2EBFA;\n",
              "      box-shadow: 0px 1px 2px rgba(60, 64, 67, 0.3), 0px 1px 3px 1px rgba(60, 64, 67, 0.15);\n",
              "      fill: #174EA6;\n",
              "    }\n",
              "\n",
              "    .colab-df-buttons div {\n",
              "      margin-bottom: 4px;\n",
              "    }\n",
              "\n",
              "    [theme=dark] .colab-df-convert {\n",
              "      background-color: #3B4455;\n",
              "      fill: #D2E3FC;\n",
              "    }\n",
              "\n",
              "    [theme=dark] .colab-df-convert:hover {\n",
              "      background-color: #434B5C;\n",
              "      box-shadow: 0px 1px 3px 1px rgba(0, 0, 0, 0.15);\n",
              "      filter: drop-shadow(0px 1px 2px rgba(0, 0, 0, 0.3));\n",
              "      fill: #FFFFFF;\n",
              "    }\n",
              "  </style>\n",
              "\n",
              "    <script>\n",
              "      const buttonEl =\n",
              "        document.querySelector('#df-56a5dabb-3e68-4890-9cce-74ecd4c29fff button.colab-df-convert');\n",
              "      buttonEl.style.display =\n",
              "        google.colab.kernel.accessAllowed ? 'block' : 'none';\n",
              "\n",
              "      async function convertToInteractive(key) {\n",
              "        const element = document.querySelector('#df-56a5dabb-3e68-4890-9cce-74ecd4c29fff');\n",
              "        const dataTable =\n",
              "          await google.colab.kernel.invokeFunction('convertToInteractive',\n",
              "                                                    [key], {});\n",
              "        if (!dataTable) return;\n",
              "\n",
              "        const docLinkHtml = 'Like what you see? Visit the ' +\n",
              "          '<a target=\"_blank\" href=https://colab.research.google.com/notebooks/data_table.ipynb>data table notebook</a>'\n",
              "          + ' to learn more about interactive tables.';\n",
              "        element.innerHTML = '';\n",
              "        dataTable['output_type'] = 'display_data';\n",
              "        await google.colab.output.renderOutput(dataTable, element);\n",
              "        const docLink = document.createElement('div');\n",
              "        docLink.innerHTML = docLinkHtml;\n",
              "        element.appendChild(docLink);\n",
              "      }\n",
              "    </script>\n",
              "  </div>\n",
              "\n",
              "\n",
              "<div id=\"df-bc66b8b8-2eae-4a9f-bb5f-b2be410103ce\">\n",
              "  <button class=\"colab-df-quickchart\" onclick=\"quickchart('df-bc66b8b8-2eae-4a9f-bb5f-b2be410103ce')\"\n",
              "            title=\"Suggest charts\"\n",
              "            style=\"display:none;\">\n",
              "\n",
              "<svg xmlns=\"http://www.w3.org/2000/svg\" height=\"24px\"viewBox=\"0 0 24 24\"\n",
              "     width=\"24px\">\n",
              "    <g>\n",
              "        <path d=\"M19 3H5c-1.1 0-2 .9-2 2v14c0 1.1.9 2 2 2h14c1.1 0 2-.9 2-2V5c0-1.1-.9-2-2-2zM9 17H7v-7h2v7zm4 0h-2V7h2v10zm4 0h-2v-4h2v4z\"/>\n",
              "    </g>\n",
              "</svg>\n",
              "  </button>\n",
              "\n",
              "<style>\n",
              "  .colab-df-quickchart {\n",
              "      --bg-color: #E8F0FE;\n",
              "      --fill-color: #1967D2;\n",
              "      --hover-bg-color: #E2EBFA;\n",
              "      --hover-fill-color: #174EA6;\n",
              "      --disabled-fill-color: #AAA;\n",
              "      --disabled-bg-color: #DDD;\n",
              "  }\n",
              "\n",
              "  [theme=dark] .colab-df-quickchart {\n",
              "      --bg-color: #3B4455;\n",
              "      --fill-color: #D2E3FC;\n",
              "      --hover-bg-color: #434B5C;\n",
              "      --hover-fill-color: #FFFFFF;\n",
              "      --disabled-bg-color: #3B4455;\n",
              "      --disabled-fill-color: #666;\n",
              "  }\n",
              "\n",
              "  .colab-df-quickchart {\n",
              "    background-color: var(--bg-color);\n",
              "    border: none;\n",
              "    border-radius: 50%;\n",
              "    cursor: pointer;\n",
              "    display: none;\n",
              "    fill: var(--fill-color);\n",
              "    height: 32px;\n",
              "    padding: 0;\n",
              "    width: 32px;\n",
              "  }\n",
              "\n",
              "  .colab-df-quickchart:hover {\n",
              "    background-color: var(--hover-bg-color);\n",
              "    box-shadow: 0 1px 2px rgba(60, 64, 67, 0.3), 0 1px 3px 1px rgba(60, 64, 67, 0.15);\n",
              "    fill: var(--button-hover-fill-color);\n",
              "  }\n",
              "\n",
              "  .colab-df-quickchart-complete:disabled,\n",
              "  .colab-df-quickchart-complete:disabled:hover {\n",
              "    background-color: var(--disabled-bg-color);\n",
              "    fill: var(--disabled-fill-color);\n",
              "    box-shadow: none;\n",
              "  }\n",
              "\n",
              "  .colab-df-spinner {\n",
              "    border: 2px solid var(--fill-color);\n",
              "    border-color: transparent;\n",
              "    border-bottom-color: var(--fill-color);\n",
              "    animation:\n",
              "      spin 1s steps(1) infinite;\n",
              "  }\n",
              "\n",
              "  @keyframes spin {\n",
              "    0% {\n",
              "      border-color: transparent;\n",
              "      border-bottom-color: var(--fill-color);\n",
              "      border-left-color: var(--fill-color);\n",
              "    }\n",
              "    20% {\n",
              "      border-color: transparent;\n",
              "      border-left-color: var(--fill-color);\n",
              "      border-top-color: var(--fill-color);\n",
              "    }\n",
              "    30% {\n",
              "      border-color: transparent;\n",
              "      border-left-color: var(--fill-color);\n",
              "      border-top-color: var(--fill-color);\n",
              "      border-right-color: var(--fill-color);\n",
              "    }\n",
              "    40% {\n",
              "      border-color: transparent;\n",
              "      border-right-color: var(--fill-color);\n",
              "      border-top-color: var(--fill-color);\n",
              "    }\n",
              "    60% {\n",
              "      border-color: transparent;\n",
              "      border-right-color: var(--fill-color);\n",
              "    }\n",
              "    80% {\n",
              "      border-color: transparent;\n",
              "      border-right-color: var(--fill-color);\n",
              "      border-bottom-color: var(--fill-color);\n",
              "    }\n",
              "    90% {\n",
              "      border-color: transparent;\n",
              "      border-bottom-color: var(--fill-color);\n",
              "    }\n",
              "  }\n",
              "</style>\n",
              "\n",
              "  <script>\n",
              "    async function quickchart(key) {\n",
              "      const quickchartButtonEl =\n",
              "        document.querySelector('#' + key + ' button');\n",
              "      quickchartButtonEl.disabled = true;  // To prevent multiple clicks.\n",
              "      quickchartButtonEl.classList.add('colab-df-spinner');\n",
              "      try {\n",
              "        const charts = await google.colab.kernel.invokeFunction(\n",
              "            'suggestCharts', [key], {});\n",
              "      } catch (error) {\n",
              "        console.error('Error during call to suggestCharts:', error);\n",
              "      }\n",
              "      quickchartButtonEl.classList.remove('colab-df-spinner');\n",
              "      quickchartButtonEl.classList.add('colab-df-quickchart-complete');\n",
              "    }\n",
              "    (() => {\n",
              "      let quickchartButtonEl =\n",
              "        document.querySelector('#df-bc66b8b8-2eae-4a9f-bb5f-b2be410103ce button');\n",
              "      quickchartButtonEl.style.display =\n",
              "        google.colab.kernel.accessAllowed ? 'block' : 'none';\n",
              "    })();\n",
              "  </script>\n",
              "</div>\n",
              "\n",
              "  <div id=\"id_c5b9e8d3-4e3c-4d2d-91ec-aac64e2c393c\">\n",
              "    <style>\n",
              "      .colab-df-generate {\n",
              "        background-color: #E8F0FE;\n",
              "        border: none;\n",
              "        border-radius: 50%;\n",
              "        cursor: pointer;\n",
              "        display: none;\n",
              "        fill: #1967D2;\n",
              "        height: 32px;\n",
              "        padding: 0 0 0 0;\n",
              "        width: 32px;\n",
              "      }\n",
              "\n",
              "      .colab-df-generate:hover {\n",
              "        background-color: #E2EBFA;\n",
              "        box-shadow: 0px 1px 2px rgba(60, 64, 67, 0.3), 0px 1px 3px 1px rgba(60, 64, 67, 0.15);\n",
              "        fill: #174EA6;\n",
              "      }\n",
              "\n",
              "      [theme=dark] .colab-df-generate {\n",
              "        background-color: #3B4455;\n",
              "        fill: #D2E3FC;\n",
              "      }\n",
              "\n",
              "      [theme=dark] .colab-df-generate:hover {\n",
              "        background-color: #434B5C;\n",
              "        box-shadow: 0px 1px 3px 1px rgba(0, 0, 0, 0.15);\n",
              "        filter: drop-shadow(0px 1px 2px rgba(0, 0, 0, 0.3));\n",
              "        fill: #FFFFFF;\n",
              "      }\n",
              "    </style>\n",
              "    <button class=\"colab-df-generate\" onclick=\"generateWithVariable('descriptive_stats')\"\n",
              "            title=\"Generate code using this dataframe.\"\n",
              "            style=\"display:none;\">\n",
              "\n",
              "  <svg xmlns=\"http://www.w3.org/2000/svg\" height=\"24px\"viewBox=\"0 0 24 24\"\n",
              "       width=\"24px\">\n",
              "    <path d=\"M7,19H8.4L18.45,9,17,7.55,7,17.6ZM5,21V16.75L18.45,3.32a2,2,0,0,1,2.83,0l1.4,1.43a1.91,1.91,0,0,1,.58,1.4,1.91,1.91,0,0,1-.58,1.4L9.25,21ZM18.45,9,17,7.55Zm-12,3A5.31,5.31,0,0,0,4.9,8.1,5.31,5.31,0,0,0,1,6.5,5.31,5.31,0,0,0,4.9,4.9,5.31,5.31,0,0,0,6.5,1,5.31,5.31,0,0,0,8.1,4.9,5.31,5.31,0,0,0,12,6.5,5.46,5.46,0,0,0,6.5,12Z\"/>\n",
              "  </svg>\n",
              "    </button>\n",
              "    <script>\n",
              "      (() => {\n",
              "      const buttonEl =\n",
              "        document.querySelector('#id_c5b9e8d3-4e3c-4d2d-91ec-aac64e2c393c button.colab-df-generate');\n",
              "      buttonEl.style.display =\n",
              "        google.colab.kernel.accessAllowed ? 'block' : 'none';\n",
              "\n",
              "      buttonEl.onclick = () => {\n",
              "        google.colab.notebook.generateWithVariable('descriptive_stats');\n",
              "      }\n",
              "      })();\n",
              "    </script>\n",
              "  </div>\n",
              "\n",
              "    </div>\n",
              "  </div>\n"
            ]
          },
          "metadata": {},
          "execution_count": 8
        }
      ]
    },
    {
      "cell_type": "code",
      "source": [
        "# checking for missing values after conversion\n",
        "new_missing_values = data.isnull().sum()\n",
        "new_missing_values"
      ],
      "metadata": {
        "colab": {
          "base_uri": "https://localhost:8080/"
        },
        "id": "pnisVRYCDOih",
        "outputId": "1d75ba99-1773-47ff-fd09-3271397f0d4c"
      },
      "execution_count": null,
      "outputs": [
        {
          "output_type": "execute_result",
          "data": {
            "text/plain": [
              "Customer_ID                       0\n",
              "Age                              40\n",
              "Gender                            0\n",
              "Income_Level                      0\n",
              "Address                           0\n",
              "Transaction_ID                    0\n",
              "Purchase_Date                    48\n",
              "Product_ID                        0\n",
              "Product_Category                  0\n",
              "Brand                             0\n",
              "Purchase_Amount                  49\n",
              "Average_Spending_Per_Purchase    40\n",
              "Purchase_Frequency_Per_Month     55\n",
              "Brand_Affinity_Score             61\n",
              "Product_Category_Preferences      0\n",
              "Month                            53\n",
              "Year                             52\n",
              "Season                            0\n",
              "dtype: int64"
            ]
          },
          "metadata": {},
          "execution_count": 9
        }
      ]
    },
    {
      "cell_type": "markdown",
      "source": [
        "# Data Cleaning"
      ],
      "metadata": {
        "id": "mqEY5CqMIN1t"
      }
    },
    {
      "cell_type": "markdown",
      "source": [
        "## Missing values\n",
        "It is really important to analyze all features and check accordingly. If any column has a very high percentage of missing values (typically, more than 50-60%), it might be worth considering dropping the column. However, in this dataset, it seems that the maximum missingness in any column is not exceedingly high. Now the need is to check all features one by one, and check if we can use mean or median for imputation. The choice between mean and median depends on the distribution of feature. If it's normally distributed, mean is suitable; if skewed, median is preferable as it is more robust to outliers and skewed distributions. It represents the middle value.\n",
        "\n",
        "Now we will analyze every feature one by one:"
      ],
      "metadata": {
        "id": "nialG-0MIPqP"
      }
    },
    {
      "cell_type": "markdown",
      "source": [
        "### Age:\n",
        "The histogram of Age suggests that the distribution is relatively symmetric and does not show extreme skewness. Therefore, we can use the mean for imputation."
      ],
      "metadata": {
        "id": "89C14bICJDzn"
      }
    },
    {
      "cell_type": "code",
      "source": [
        "plt.figure(figsize=(10, 6))\n",
        "data['Age'].hist(bins=30)\n",
        "plt.title('Histogram of Age')\n",
        "plt.xlabel('Age')\n",
        "plt.ylabel('Frequency')\n",
        "plt.grid(False)\n",
        "plt.show()"
      ],
      "metadata": {
        "colab": {
          "base_uri": "https://localhost:8080/",
          "height": 564
        },
        "id": "eThZtXBpI1i6",
        "outputId": "d3fba356-39a7-4bd7-fe32-9225bce5fa51"
      },
      "execution_count": null,
      "outputs": [
        {
          "output_type": "display_data",
          "data": {
            "text/plain": [
              "<Figure size 1000x600 with 1 Axes>"
            ],
            "image/png": "[encoded data removed]"
          },
          "metadata": {}
        }
      ]
    },
    {
      "cell_type": "markdown",
      "source": [
        "\n",
        "After this mean imputation there will be 0 null values in Age feature."
      ],
      "metadata": {
        "id": "tauajCx8Jr0u"
      }
    },
    {
      "cell_type": "code",
      "source": [
        "age_mean = data['Age'].mean()\n",
        "print(\"imputing with: \", age_mean)\n",
        "data['Age'].fillna(age_mean, inplace=True)"
      ],
      "metadata": {
        "colab": {
          "base_uri": "https://localhost:8080/"
        },
        "id": "BPI1KBt5Jibr",
        "outputId": "8a1796f2-a90c-4f86-a673-1b8ee60e1528"
      },
      "execution_count": null,
      "outputs": [
        {
          "output_type": "stream",
          "name": "stdout",
          "text": [
            "imputing with:  49.885416666666664\n"
          ]
        }
      ]
    },
    {
      "cell_type": "markdown",
      "source": [
        "### Purchase Ammount:\n",
        "The histogram of Purchase ammount appears somewhat skewed. Median imputation might be more appropriate here."
      ],
      "metadata": {
        "id": "18MGVfZnKPxb"
      }
    },
    {
      "cell_type": "code",
      "source": [
        "plt.figure(figsize=(10, 6))\n",
        "data['Purchase_Amount'].hist(bins=30)\n",
        "plt.title('Histogram of Purchase Amount')\n",
        "plt.xlabel('Purchase Amount')\n",
        "plt.ylabel('Frequency')\n",
        "plt.grid(False)\n",
        "plt.show()"
      ],
      "metadata": {
        "colab": {
          "base_uri": "https://localhost:8080/",
          "height": 564
        },
        "id": "FkHQJXH9KPjo",
        "outputId": "f9c93426-1de5-4bb7-9438-03cd54e279b5"
      },
      "execution_count": null,
      "outputs": [
        {
          "output_type": "display_data",
          "data": {
            "text/plain": [
              "<Figure size 1000x600 with 1 Axes>"
            ],
            "image/png": "[encoded data removed]"
          },
          "metadata": {}
        }
      ]
    },
    {
      "cell_type": "code",
      "source": [
        "purchase_amount_median = data['Purchase_Amount'].median()\n",
        "print(\"imputing with: \", purchase_amount_median)\n",
        "data['Purchase_Amount'].fillna(purchase_amount_median, inplace=True)"
      ],
      "metadata": {
        "colab": {
          "base_uri": "https://localhost:8080/"
        },
        "id": "qfs43Q9UJiWj",
        "outputId": "9a385a87-0272-4b65-bfe7-82e385c1d2f5"
      },
      "execution_count": null,
      "outputs": [
        {
          "output_type": "stream",
          "name": "stdout",
          "text": [
            "imputing with:  246.0\n"
          ]
        }
      ]
    },
    {
      "cell_type": "markdown",
      "source": [
        "### Average Spending Per Purchase:\n",
        "This distribution also seems slightly skewed. Median imputation would be suitable."
      ],
      "metadata": {
        "id": "YDxcPP-yKsIU"
      }
    },
    {
      "cell_type": "code",
      "source": [
        "plt.figure(figsize=(10, 6))\n",
        "data['Average_Spending_Per_Purchase'].hist(edgecolor='black')\n",
        "plt.title('Histogram of Average Spending Per Purchase')\n",
        "plt.xlabel('Average Spending Per Purchase')\n",
        "plt.ylabel('Frequency')\n",
        "plt.grid(False)\n",
        "plt.show()"
      ],
      "metadata": {
        "colab": {
          "base_uri": "https://localhost:8080/",
          "height": 564
        },
        "id": "Uq_JrSzVK2sU",
        "outputId": "a41f3aea-5e09-474a-b8cb-bb62800786fd"
      },
      "execution_count": null,
      "outputs": [
        {
          "output_type": "display_data",
          "data": {
            "text/plain": [
              "<Figure size 1000x600 with 1 Axes>"
            ],
            "image/png": "[encoded data removed]"
          },
          "metadata": {}
        }
      ]
    },
    {
      "cell_type": "code",
      "source": [
        "average_spending_median = data['Average_Spending_Per_Purchase'].median()\n",
        "print(\"imputing with: \", average_spending_median)\n",
        "data['Average_Spending_Per_Purchase'].fillna(average_spending_median, inplace=True)"
      ],
      "metadata": {
        "colab": {
          "base_uri": "https://localhost:8080/"
        },
        "id": "StJSKAy2LLzU",
        "outputId": "2ef19922-a5bf-4469-91dc-3b7f49754fca"
      },
      "execution_count": null,
      "outputs": [
        {
          "output_type": "stream",
          "name": "stdout",
          "text": [
            "imputing with:  50.0\n"
          ]
        }
      ]
    },
    {
      "cell_type": "markdown",
      "source": [
        "### Purchase Frequency Per Month\n",
        "The distribution is relatively symmetric, making mean imputation a good choice."
      ],
      "metadata": {
        "id": "bKPTyb1FLUae"
      }
    },
    {
      "cell_type": "code",
      "source": [
        "plt.figure(figsize=(10, 6))\n",
        "data['Purchase_Frequency_Per_Month'].hist(edgecolor='black')\n",
        "plt.title('Histogram of Purchase Frequency Per Month')\n",
        "plt.xlabel('Purchase Frequency Per Month')\n",
        "plt.ylabel('Frequency')\n",
        "plt.grid(False)\n",
        "plt.show()"
      ],
      "metadata": {
        "colab": {
          "base_uri": "https://localhost:8080/",
          "height": 564
        },
        "id": "v6fQeOReLbcN",
        "outputId": "baec03ad-0924-4a44-a72c-a9be7acccd9d"
      },
      "execution_count": null,
      "outputs": [
        {
          "output_type": "display_data",
          "data": {
            "text/plain": [
              "<Figure size 1000x600 with 1 Axes>"
            ],
            "image/png": "[encoded data removed]"
          },
          "metadata": {}
        }
      ]
    },
    {
      "cell_type": "code",
      "source": [
        "purchase_frequency_mean = data['Purchase_Frequency_Per_Month'].mean()\n",
        "print(\"imputing with: \", purchase_frequency_mean)\n",
        "data['Purchase_Frequency_Per_Month'].fillna(purchase_frequency_mean, inplace=True)"
      ],
      "metadata": {
        "colab": {
          "base_uri": "https://localhost:8080/"
        },
        "id": "BQzFwh6GLtgd",
        "outputId": "20206304-e378-4cd6-a1a3-8bd528c22c39"
      },
      "execution_count": null,
      "outputs": [
        {
          "output_type": "stream",
          "name": "stdout",
          "text": [
            "imputing with:  5.437037037037037\n"
          ]
        }
      ]
    },
    {
      "cell_type": "markdown",
      "source": [
        "### Brand Affinity Score:\n",
        "This distribution is fairly uniform. We will use mean imputation here"
      ],
      "metadata": {
        "id": "Pg5YOU8VLzP-"
      }
    },
    {
      "cell_type": "code",
      "source": [
        "plt.figure(figsize=(10, 6))\n",
        "data['Brand_Affinity_Score'].hist(edgecolor='black')\n",
        "plt.title('Histogram of Brand Affinity Score')\n",
        "plt.xlabel('Brand Affinity Score')\n",
        "plt.ylabel('Frequency')\n",
        "plt.grid(False)\n",
        "plt.show()"
      ],
      "metadata": {
        "colab": {
          "base_uri": "https://localhost:8080/",
          "height": 564
        },
        "id": "hP1USb4-L6pd",
        "outputId": "4cd437f9-53aa-43b0-91cd-2c17072902f0"
      },
      "execution_count": null,
      "outputs": [
        {
          "output_type": "display_data",
          "data": {
            "text/plain": [
              "<Figure size 1000x600 with 1 Axes>"
            ],
            "image/png": "[encoded data removed]"
          },
          "metadata": {}
        }
      ]
    },
    {
      "cell_type": "code",
      "source": [
        "brand_affinity_mean = data['Brand_Affinity_Score'].mean()\n",
        "print(\"imputing with: \", brand_affinity_mean)\n",
        "data['Brand_Affinity_Score'].fillna(brand_affinity_mean, inplace=True)"
      ],
      "metadata": {
        "colab": {
          "base_uri": "https://localhost:8080/"
        },
        "id": "Ki3Q4_ONMLXX",
        "outputId": "b33558dd-4b4d-496f-9a10-57faa486c6d5"
      },
      "execution_count": null,
      "outputs": [
        {
          "output_type": "stream",
          "name": "stdout",
          "text": [
            "imputing with:  5.369542066027689\n"
          ]
        }
      ]
    },
    {
      "cell_type": "markdown",
      "source": [
        "### Year:\n",
        "This is a significant time marker, using the median (a more robust measure) could be a reasonable approach, using the median is often a safer choice to avoid introducing bias, especially if the dataset spans several years where the mean could be affected by historical data trends. Moreover, another point is that mean can provide non-numeric values (in decimal) which doesn't make sense in case of Year."
      ],
      "metadata": {
        "id": "xexB99T9NWNj"
      }
    },
    {
      "cell_type": "code",
      "source": [
        "plt.figure(figsize=(10, 6))\n",
        "data['Year'].hist(edgecolor='black')\n",
        "plt.title('Histogram of Year')\n",
        "plt.xlabel('Year')\n",
        "plt.ylabel('Frequency')\n",
        "plt.grid(False)\n",
        "plt.show()"
      ],
      "metadata": {
        "colab": {
          "base_uri": "https://localhost:8080/",
          "height": 564
        },
        "id": "d_lpEbvVNy2q",
        "outputId": "9dc5753f-f1c2-48de-afa6-a7ccdb287cd2"
      },
      "execution_count": null,
      "outputs": [
        {
          "output_type": "display_data",
          "data": {
            "text/plain": [
              "<Figure size 1000x600 with 1 Axes>"
            ],
            "image/png": "[encoded data removed]"
          },
          "metadata": {}
        }
      ]
    },
    {
      "cell_type": "code",
      "source": [
        "year_median = data['Year'].median()\n",
        "print(\"imputing with: \", year_median)\n",
        "data['Year'].fillna(year_median, inplace=True)"
      ],
      "metadata": {
        "colab": {
          "base_uri": "https://localhost:8080/"
        },
        "id": "LD7_DFO4O9JJ",
        "outputId": "d9d0329f-520a-4c4e-9209-09a2db554791"
      },
      "execution_count": null,
      "outputs": [
        {
          "output_type": "stream",
          "name": "stdout",
          "text": [
            "imputing with:  1997.0\n"
          ]
        }
      ]
    },
    {
      "cell_type": "markdown",
      "source": [
        "### Month:\n",
        "Similar methodology that are implemented for Year would be used for Month as it is also a time marker."
      ],
      "metadata": {
        "id": "WJfl0-QjPqfI"
      }
    },
    {
      "cell_type": "code",
      "source": [
        "plt.figure(figsize=(10, 6))\n",
        "data['Month'].hist(edgecolor='black')\n",
        "plt.title('Histogram of Month')\n",
        "plt.xlabel('Month')\n",
        "plt.ylabel('Frequency')\n",
        "plt.grid(False)\n",
        "plt.show()\n"
      ],
      "metadata": {
        "colab": {
          "base_uri": "https://localhost:8080/",
          "height": 564
        },
        "id": "LQDpVfx9P0F8",
        "outputId": "0917b102-b394-4453-e89a-291810a1356c"
      },
      "execution_count": null,
      "outputs": [
        {
          "output_type": "display_data",
          "data": {
            "text/plain": [
              "<Figure size 1000x600 with 1 Axes>"
            ],
            "image/png": "[encoded data removed]"
          },
          "metadata": {}
        }
      ]
    },
    {
      "cell_type": "code",
      "source": [
        "month_median = data['Month'].median()\n",
        "print(\"imputing with: \", month_median)\n",
        "data['Month'].fillna(month_median, inplace=True)"
      ],
      "metadata": {
        "colab": {
          "base_uri": "https://localhost:8080/"
        },
        "id": "TyzMjC7uP6P_",
        "outputId": "09440dc5-e8da-4635-b6b4-094673b1b996"
      },
      "execution_count": null,
      "outputs": [
        {
          "output_type": "stream",
          "name": "stdout",
          "text": [
            "imputing with:  6.0\n"
          ]
        }
      ]
    },
    {
      "cell_type": "markdown",
      "source": [
        "### Purchase Date:\n",
        "Given that the dataset contains 1000 rows and only 48 are missing Purchase_Date, this represents 4.8% of dataset. Since the missing Purchase_Date data is less than 5% of the total dataset, it is reasonable to simply drop these rows. This is often the simplest and most straightforward approach, especially if the missing dates are randomly distributed and their removal won't introduce significant bias."
      ],
      "metadata": {
        "id": "FdzhxzbjR-vI"
      }
    },
    {
      "cell_type": "code",
      "source": [
        "data.dropna(subset=['Purchase_Date'], inplace=True)"
      ],
      "metadata": {
        "id": "cQ31wWASR5aE"
      },
      "execution_count": null,
      "outputs": []
    },
    {
      "cell_type": "markdown",
      "source": [
        "## Outlier Detection\n",
        "In data cleaning, it's important to check outliers and their influence on datasets. Outliers are only associated with numerical variables. So, to detect outliers We will plot box-plot of all numerical variables."
      ],
      "metadata": {
        "id": "lj7RnN_PXBAK"
      }
    },
    {
      "cell_type": "code",
      "source": [
        "numerical_columns = [\n",
        "    'Age', 'Purchase_Amount', 'Average_Spending_Per_Purchase',\n",
        "    'Purchase_Frequency_Per_Month', 'Brand_Affinity_Score', 'Month', 'Year'\n",
        "]\n",
        "\n",
        "# Creating box plots for each numerical column\n",
        "plt.figure(figsize=(15, 10))\n",
        "\n",
        "for i, column in enumerate(numerical_columns, 1):\n",
        "    plt.subplot(3, 3, i)\n",
        "    sns.boxplot(y=data[column])\n",
        "    plt.title(column)\n",
        "\n",
        "plt.tight_layout()\n",
        "plt.show()"
      ],
      "metadata": {
        "colab": {
          "base_uri": "https://localhost:8080/",
          "height": 1000
        },
        "id": "9lXmgxs8Xfmm",
        "outputId": "f5dd18ba-827e-4eda-cae9-bf96af30c8c6"
      },
      "execution_count": null,
      "outputs": [
        {
          "output_type": "display_data",
          "data": {
            "text/plain": [
              "<Figure size 1500x1000 with 7 Axes>"
            ],
            "image/png": "[encoded data removed]"
          },
          "metadata": {}
        }
      ]
    },
    {
      "cell_type": "markdown",
      "source": [
        "Although the Box plots clearly shows their are no outliers in any numerical column, still to verify, We will further implement Interquartile Range (IQR) method to verify that there is no outlier. The IQR method typically considers values as outliers if they are below the 1st quartile - 1.5 * IQR or above the 3rd quartile + 1.5 * IQR.\n",
        "By the outcome of the following code snippet it is further established that there is no outlier that is need to reduced/normalized or removed."
      ],
      "metadata": {
        "id": "qVPHFA4NYCG9"
      }
    },
    {
      "cell_type": "code",
      "source": [
        "# Calculate IQR for each numerical column\n",
        "Q1 = data[numerical_columns].quantile(0.25)\n",
        "Q3 = data[numerical_columns].quantile(0.75)\n",
        "IQR = Q3 - Q1\n",
        "\n",
        "# Determine the outliers for each column\n",
        "outliers = ((data[numerical_columns] < (Q1 - 1.5 * IQR)) | (data[numerical_columns] > (Q3 + 1.5 * IQR)))\n",
        "\n",
        "# Count of outliers in each column\n",
        "outlier_counts = outliers.sum()\n",
        "print(outlier_counts)"
      ],
      "metadata": {
        "colab": {
          "base_uri": "https://localhost:8080/"
        },
        "id": "sT8FjvtaYsaI",
        "outputId": "49230a5d-14d2-4546-f05a-55b700c97518"
      },
      "execution_count": null,
      "outputs": [
        {
          "output_type": "stream",
          "name": "stdout",
          "text": [
            "Age                              0\n",
            "Purchase_Amount                  0\n",
            "Average_Spending_Per_Purchase    0\n",
            "Purchase_Frequency_Per_Month     0\n",
            "Brand_Affinity_Score             0\n",
            "Month                            0\n",
            "Year                             0\n",
            "dtype: int64\n"
          ]
        }
      ]
    },
    {
      "cell_type": "markdown",
      "source": [
        "## Descriptive Analysis After Cleaning\n",
        "As there are multiple changes in features and some of the rows are dropped, The descriptive Analysis is completly changed, with different stats altogeather."
      ],
      "metadata": {
        "id": "CsxXn-o3SX4B"
      }
    },
    {
      "cell_type": "code",
      "source": [
        "np.shape(data)"
      ],
      "metadata": {
        "colab": {
          "base_uri": "https://localhost:8080/"
        },
        "id": "7QuPgQ6ySpYk",
        "outputId": "d452dd95-c7de-400a-a86e-7e14b713e9f1"
      },
      "execution_count": null,
      "outputs": [
        {
          "output_type": "execute_result",
          "data": {
            "text/plain": [
              "(952, 18)"
            ]
          },
          "metadata": {},
          "execution_count": 222
        }
      ]
    },
    {
      "cell_type": "code",
      "source": [
        "descriptive_stats = data.describe()\n",
        "descriptive_stats"
      ],
      "metadata": {
        "colab": {
          "base_uri": "https://localhost:8080/",
          "height": 300
        },
        "id": "wWIwCsdXSr2Q",
        "outputId": "3f3e2294-ddfb-4e1a-eac9-990a0999baa6"
      },
      "execution_count": null,
      "outputs": [
        {
          "output_type": "execute_result",
          "data": {
            "text/plain": [
              "              Age  Purchase_Amount  Average_Spending_Per_Purchase  \\\n",
              "count  952.000000       952.000000                     952.000000   \n",
              "mean    49.855961       250.070378                      51.781513   \n",
              "std     18.252111       138.221177                      26.506880   \n",
              "min     18.000000        10.000000                       5.000000   \n",
              "25%     35.000000       135.000000                      30.000000   \n",
              "50%     49.885417       246.000000                      50.000000   \n",
              "75%     66.000000       369.000000                      74.000000   \n",
              "max     80.000000       500.000000                     100.000000   \n",
              "\n",
              "       Purchase_Frequency_Per_Month  Brand_Affinity_Score     Month  \\\n",
              "count                    952.000000            952.000000     952.0   \n",
              "mean                       5.464130              5.359425  6.494748   \n",
              "std                        2.760788              2.752536  3.336377   \n",
              "min                        1.000000              1.000000       1.0   \n",
              "25%                        3.000000              3.000000       4.0   \n",
              "50%                        5.437037              5.369542       6.0   \n",
              "75%                        8.000000              8.000000       9.0   \n",
              "max                       10.000000             10.000000      12.0   \n",
              "\n",
              "              Year  \n",
              "count        952.0  \n",
              "mean   1997.048319  \n",
              "std      15.127422  \n",
              "min         1970.0  \n",
              "25%         1985.0  \n",
              "50%         1997.0  \n",
              "75%         2010.0  \n",
              "max         2023.0  "
            ],
            "text/html": [
              "\n",
              "  <div id=\"df-00142f09-1b22-4020-843f-b05ca7f1d237\" class=\"colab-df-container\">\n",
              "    <div>\n",
              "<style scoped>\n",
              "    .dataframe tbody tr th:only-of-type {\n",
              "        vertical-align: middle;\n",
              "    }\n",
              "\n",
              "    .dataframe tbody tr th {\n",
              "        vertical-align: top;\n",
              "    }\n",
              "\n",
              "    .dataframe thead th {\n",
              "        text-align: right;\n",
              "    }\n",
              "</style>\n",
              "<table border=\"1\" class=\"dataframe\">\n",
              "  <thead>\n",
              "    <tr style=\"text-align: right;\">\n",
              "      <th></th>\n",
              "      <th>Age</th>\n",
              "      <th>Purchase_Amount</th>\n",
              "      <th>Average_Spending_Per_Purchase</th>\n",
              "      <th>Purchase_Frequency_Per_Month</th>\n",
              "      <th>Brand_Affinity_Score</th>\n",
              "      <th>Month</th>\n",
              "      <th>Year</th>\n",
              "    </tr>\n",
              "  </thead>\n",
              "  <tbody>\n",
              "    <tr>\n",
              "      <th>count</th>\n",
              "      <td>952.000000</td>\n",
              "      <td>952.000000</td>\n",
              "      <td>952.000000</td>\n",
              "      <td>952.000000</td>\n",
              "      <td>952.000000</td>\n",
              "      <td>952.0</td>\n",
              "      <td>952.0</td>\n",
              "    </tr>\n",
              "    <tr>\n",
              "      <th>mean</th>\n",
              "      <td>49.855961</td>\n",
              "      <td>250.070378</td>\n",
              "      <td>51.781513</td>\n",
              "      <td>5.464130</td>\n",
              "      <td>5.359425</td>\n",
              "      <td>6.494748</td>\n",
              "      <td>1997.048319</td>\n",
              "    </tr>\n",
              "    <tr>\n",
              "      <th>std</th>\n",
              "      <td>18.252111</td>\n",
              "      <td>138.221177</td>\n",
              "      <td>26.506880</td>\n",
              "      <td>2.760788</td>\n",
              "      <td>2.752536</td>\n",
              "      <td>3.336377</td>\n",
              "      <td>15.127422</td>\n",
              "    </tr>\n",
              "    <tr>\n",
              "      <th>min</th>\n",
              "      <td>18.000000</td>\n",
              "      <td>10.000000</td>\n",
              "      <td>5.000000</td>\n",
              "      <td>1.000000</td>\n",
              "      <td>1.000000</td>\n",
              "      <td>1.0</td>\n",
              "      <td>1970.0</td>\n",
              "    </tr>\n",
              "    <tr>\n",
              "      <th>25%</th>\n",
              "      <td>35.000000</td>\n",
              "      <td>135.000000</td>\n",
              "      <td>30.000000</td>\n",
              "      <td>3.000000</td>\n",
              "      <td>3.000000</td>\n",
              "      <td>4.0</td>\n",
              "      <td>1985.0</td>\n",
              "    </tr>\n",
              "    <tr>\n",
              "      <th>50%</th>\n",
              "      <td>49.885417</td>\n",
              "      <td>246.000000</td>\n",
              "      <td>50.000000</td>\n",
              "      <td>5.437037</td>\n",
              "      <td>5.369542</td>\n",
              "      <td>6.0</td>\n",
              "      <td>1997.0</td>\n",
              "    </tr>\n",
              "    <tr>\n",
              "      <th>75%</th>\n",
              "      <td>66.000000</td>\n",
              "      <td>369.000000</td>\n",
              "      <td>74.000000</td>\n",
              "      <td>8.000000</td>\n",
              "      <td>8.000000</td>\n",
              "      <td>9.0</td>\n",
              "      <td>2010.0</td>\n",
              "    </tr>\n",
              "    <tr>\n",
              "      <th>max</th>\n",
              "      <td>80.000000</td>\n",
              "      <td>500.000000</td>\n",
              "      <td>100.000000</td>\n",
              "      <td>10.000000</td>\n",
              "      <td>10.000000</td>\n",
              "      <td>12.0</td>\n",
              "      <td>2023.0</td>\n",
              "    </tr>\n",
              "  </tbody>\n",
              "</table>\n",
              "</div>\n",
              "    <div class=\"colab-df-buttons\">\n",
              "\n",
              "  <div class=\"colab-df-container\">\n",
              "    <button class=\"colab-df-convert\" onclick=\"convertToInteractive('df-00142f09-1b22-4020-843f-b05ca7f1d237')\"\n",
              "            title=\"Convert this dataframe to an interactive table.\"\n",
              "            style=\"display:none;\">\n",
              "\n",
              "  <svg xmlns=\"http://www.w3.org/2000/svg\" height=\"24px\" viewBox=\"0 -960 960 960\">\n",
              "    <path d=\"M120-120v-720h720v720H120Zm60-500h600v-160H180v160Zm220 220h160v-160H400v160Zm0 220h160v-160H400v160ZM180-400h160v-160H180v160Zm440 0h160v-160H620v160ZM180-180h160v-160H180v160Zm440 0h160v-160H620v160Z\"/>\n",
              "  </svg>\n",
              "    </button>\n",
              "\n",
              "  <style>\n",
              "    .colab-df-container {\n",
              "      display:flex;\n",
              "      gap: 12px;\n",
              "    }\n",
              "\n",
              "    .colab-df-convert {\n",
              "      background-color: #E8F0FE;\n",
              "      border: none;\n",
              "      border-radius: 50%;\n",
              "      cursor: pointer;\n",
              "      display: none;\n",
              "      fill: #1967D2;\n",
              "      height: 32px;\n",
              "      padding: 0 0 0 0;\n",
              "      width: 32px;\n",
              "    }\n",
              "\n",
              "    .colab-df-convert:hover {\n",
              "      background-color: #E2EBFA;\n",
              "      box-shadow: 0px 1px 2px rgba(60, 64, 67, 0.3), 0px 1px 3px 1px rgba(60, 64, 67, 0.15);\n",
              "      fill: #174EA6;\n",
              "    }\n",
              "\n",
              "    .colab-df-buttons div {\n",
              "      margin-bottom: 4px;\n",
              "    }\n",
              "\n",
              "    [theme=dark] .colab-df-convert {\n",
              "      background-color: #3B4455;\n",
              "      fill: #D2E3FC;\n",
              "    }\n",
              "\n",
              "    [theme=dark] .colab-df-convert:hover {\n",
              "      background-color: #434B5C;\n",
              "      box-shadow: 0px 1px 3px 1px rgba(0, 0, 0, 0.15);\n",
              "      filter: drop-shadow(0px 1px 2px rgba(0, 0, 0, 0.3));\n",
              "      fill: #FFFFFF;\n",
              "    }\n",
              "  </style>\n",
              "\n",
              "    <script>\n",
              "      const buttonEl =\n",
              "        document.querySelector('#df-00142f09-1b22-4020-843f-b05ca7f1d237 button.colab-df-convert');\n",
              "      buttonEl.style.display =\n",
              "        google.colab.kernel.accessAllowed ? 'block' : 'none';\n",
              "\n",
              "      async function convertToInteractive(key) {\n",
              "        const element = document.querySelector('#df-00142f09-1b22-4020-843f-b05ca7f1d237');\n",
              "        const dataTable =\n",
              "          await google.colab.kernel.invokeFunction('convertToInteractive',\n",
              "                                                    [key], {});\n",
              "        if (!dataTable) return;\n",
              "\n",
              "        const docLinkHtml = 'Like what you see? Visit the ' +\n",
              "          '<a target=\"_blank\" href=https://colab.research.google.com/notebooks/data_table.ipynb>data table notebook</a>'\n",
              "          + ' to learn more about interactive tables.';\n",
              "        element.innerHTML = '';\n",
              "        dataTable['output_type'] = 'display_data';\n",
              "        await google.colab.output.renderOutput(dataTable, element);\n",
              "        const docLink = document.createElement('div');\n",
              "        docLink.innerHTML = docLinkHtml;\n",
              "        element.appendChild(docLink);\n",
              "      }\n",
              "    </script>\n",
              "  </div>\n",
              "\n",
              "\n",
              "<div id=\"df-fa026447-35b0-4842-8aae-ce1d0193cb42\">\n",
              "  <button class=\"colab-df-quickchart\" onclick=\"quickchart('df-fa026447-35b0-4842-8aae-ce1d0193cb42')\"\n",
              "            title=\"Suggest charts\"\n",
              "            style=\"display:none;\">\n",
              "\n",
              "<svg xmlns=\"http://www.w3.org/2000/svg\" height=\"24px\"viewBox=\"0 0 24 24\"\n",
              "     width=\"24px\">\n",
              "    <g>\n",
              "        <path d=\"M19 3H5c-1.1 0-2 .9-2 2v14c0 1.1.9 2 2 2h14c1.1 0 2-.9 2-2V5c0-1.1-.9-2-2-2zM9 17H7v-7h2v7zm4 0h-2V7h2v10zm4 0h-2v-4h2v4z\"/>\n",
              "    </g>\n",
              "</svg>\n",
              "  </button>\n",
              "\n",
              "<style>\n",
              "  .colab-df-quickchart {\n",
              "      --bg-color: #E8F0FE;\n",
              "      --fill-color: #1967D2;\n",
              "      --hover-bg-color: #E2EBFA;\n",
              "      --hover-fill-color: #174EA6;\n",
              "      --disabled-fill-color: #AAA;\n",
              "      --disabled-bg-color: #DDD;\n",
              "  }\n",
              "\n",
              "  [theme=dark] .colab-df-quickchart {\n",
              "      --bg-color: #3B4455;\n",
              "      --fill-color: #D2E3FC;\n",
              "      --hover-bg-color: #434B5C;\n",
              "      --hover-fill-color: #FFFFFF;\n",
              "      --disabled-bg-color: #3B4455;\n",
              "      --disabled-fill-color: #666;\n",
              "  }\n",
              "\n",
              "  .colab-df-quickchart {\n",
              "    background-color: var(--bg-color);\n",
              "    border: none;\n",
              "    border-radius: 50%;\n",
              "    cursor: pointer;\n",
              "    display: none;\n",
              "    fill: var(--fill-color);\n",
              "    height: 32px;\n",
              "    padding: 0;\n",
              "    width: 32px;\n",
              "  }\n",
              "\n",
              "  .colab-df-quickchart:hover {\n",
              "    background-color: var(--hover-bg-color);\n",
              "    box-shadow: 0 1px 2px rgba(60, 64, 67, 0.3), 0 1px 3px 1px rgba(60, 64, 67, 0.15);\n",
              "    fill: var(--button-hover-fill-color);\n",
              "  }\n",
              "\n",
              "  .colab-df-quickchart-complete:disabled,\n",
              "  .colab-df-quickchart-complete:disabled:hover {\n",
              "    background-color: var(--disabled-bg-color);\n",
              "    fill: var(--disabled-fill-color);\n",
              "    box-shadow: none;\n",
              "  }\n",
              "\n",
              "  .colab-df-spinner {\n",
              "    border: 2px solid var(--fill-color);\n",
              "    border-color: transparent;\n",
              "    border-bottom-color: var(--fill-color);\n",
              "    animation:\n",
              "      spin 1s steps(1) infinite;\n",
              "  }\n",
              "\n",
              "  @keyframes spin {\n",
              "    0% {\n",
              "      border-color: transparent;\n",
              "      border-bottom-color: var(--fill-color);\n",
              "      border-left-color: var(--fill-color);\n",
              "    }\n",
              "    20% {\n",
              "      border-color: transparent;\n",
              "      border-left-color: var(--fill-color);\n",
              "      border-top-color: var(--fill-color);\n",
              "    }\n",
              "    30% {\n",
              "      border-color: transparent;\n",
              "      border-left-color: var(--fill-color);\n",
              "      border-top-color: var(--fill-color);\n",
              "      border-right-color: var(--fill-color);\n",
              "    }\n",
              "    40% {\n",
              "      border-color: transparent;\n",
              "      border-right-color: var(--fill-color);\n",
              "      border-top-color: var(--fill-color);\n",
              "    }\n",
              "    60% {\n",
              "      border-color: transparent;\n",
              "      border-right-color: var(--fill-color);\n",
              "    }\n",
              "    80% {\n",
              "      border-color: transparent;\n",
              "      border-right-color: var(--fill-color);\n",
              "      border-bottom-color: var(--fill-color);\n",
              "    }\n",
              "    90% {\n",
              "      border-color: transparent;\n",
              "      border-bottom-color: var(--fill-color);\n",
              "    }\n",
              "  }\n",
              "</style>\n",
              "\n",
              "  <script>\n",
              "    async function quickchart(key) {\n",
              "      const quickchartButtonEl =\n",
              "        document.querySelector('#' + key + ' button');\n",
              "      quickchartButtonEl.disabled = true;  // To prevent multiple clicks.\n",
              "      quickchartButtonEl.classList.add('colab-df-spinner');\n",
              "      try {\n",
              "        const charts = await google.colab.kernel.invokeFunction(\n",
              "            'suggestCharts', [key], {});\n",
              "      } catch (error) {\n",
              "        console.error('Error during call to suggestCharts:', error);\n",
              "      }\n",
              "      quickchartButtonEl.classList.remove('colab-df-spinner');\n",
              "      quickchartButtonEl.classList.add('colab-df-quickchart-complete');\n",
              "    }\n",
              "    (() => {\n",
              "      let quickchartButtonEl =\n",
              "        document.querySelector('#df-fa026447-35b0-4842-8aae-ce1d0193cb42 button');\n",
              "      quickchartButtonEl.style.display =\n",
              "        google.colab.kernel.accessAllowed ? 'block' : 'none';\n",
              "    })();\n",
              "  </script>\n",
              "</div>\n",
              "\n",
              "  <div id=\"id_534af6af-5502-4d73-958a-d3ce8203a83b\">\n",
              "    <style>\n",
              "      .colab-df-generate {\n",
              "        background-color: #E8F0FE;\n",
              "        border: none;\n",
              "        border-radius: 50%;\n",
              "        cursor: pointer;\n",
              "        display: none;\n",
              "        fill: #1967D2;\n",
              "        height: 32px;\n",
              "        padding: 0 0 0 0;\n",
              "        width: 32px;\n",
              "      }\n",
              "\n",
              "      .colab-df-generate:hover {\n",
              "        background-color: #E2EBFA;\n",
              "        box-shadow: 0px 1px 2px rgba(60, 64, 67, 0.3), 0px 1px 3px 1px rgba(60, 64, 67, 0.15);\n",
              "        fill: #174EA6;\n",
              "      }\n",
              "\n",
              "      [theme=dark] .colab-df-generate {\n",
              "        background-color: #3B4455;\n",
              "        fill: #D2E3FC;\n",
              "      }\n",
              "\n",
              "      [theme=dark] .colab-df-generate:hover {\n",
              "        background-color: #434B5C;\n",
              "        box-shadow: 0px 1px 3px 1px rgba(0, 0, 0, 0.15);\n",
              "        filter: drop-shadow(0px 1px 2px rgba(0, 0, 0, 0.3));\n",
              "        fill: #FFFFFF;\n",
              "      }\n",
              "    </style>\n",
              "    <button class=\"colab-df-generate\" onclick=\"generateWithVariable('descriptive_stats')\"\n",
              "            title=\"Generate code using this dataframe.\"\n",
              "            style=\"display:none;\">\n",
              "\n",
              "  <svg xmlns=\"http://www.w3.org/2000/svg\" height=\"24px\"viewBox=\"0 0 24 24\"\n",
              "       width=\"24px\">\n",
              "    <path d=\"M7,19H8.4L18.45,9,17,7.55,7,17.6ZM5,21V16.75L18.45,3.32a2,2,0,0,1,2.83,0l1.4,1.43a1.91,1.91,0,0,1,.58,1.4,1.91,1.91,0,0,1-.58,1.4L9.25,21ZM18.45,9,17,7.55Zm-12,3A5.31,5.31,0,0,0,4.9,8.1,5.31,5.31,0,0,0,1,6.5,5.31,5.31,0,0,0,4.9,4.9,5.31,5.31,0,0,0,6.5,1,5.31,5.31,0,0,0,8.1,4.9,5.31,5.31,0,0,0,12,6.5,5.46,5.46,0,0,0,6.5,12Z\"/>\n",
              "  </svg>\n",
              "    </button>\n",
              "    <script>\n",
              "      (() => {\n",
              "      const buttonEl =\n",
              "        document.querySelector('#id_534af6af-5502-4d73-958a-d3ce8203a83b button.colab-df-generate');\n",
              "      buttonEl.style.display =\n",
              "        google.colab.kernel.accessAllowed ? 'block' : 'none';\n",
              "\n",
              "      buttonEl.onclick = () => {\n",
              "        google.colab.notebook.generateWithVariable('descriptive_stats');\n",
              "      }\n",
              "      })();\n",
              "    </script>\n",
              "  </div>\n",
              "\n",
              "    </div>\n",
              "  </div>\n"
            ]
          },
          "metadata": {},
          "execution_count": 223
        }
      ]
    },
    {
      "cell_type": "code",
      "source": [
        "# Rechecking for missing values after conversion\n",
        "new_missing_values = data.isnull().sum()\n",
        "new_missing_values"
      ],
      "metadata": {
        "colab": {
          "base_uri": "https://localhost:8080/"
        },
        "id": "idabguS7LSwq",
        "outputId": "2adafae0-b561-4355-8ac5-20d7d67aa41f"
      },
      "execution_count": null,
      "outputs": [
        {
          "output_type": "execute_result",
          "data": {
            "text/plain": [
              "Customer_ID                      0\n",
              "Age                              0\n",
              "Gender                           0\n",
              "Income_Level                     0\n",
              "Address                          0\n",
              "Transaction_ID                   0\n",
              "Purchase_Date                    0\n",
              "Product_ID                       0\n",
              "Product_Category                 0\n",
              "Brand                            0\n",
              "Purchase_Amount                  0\n",
              "Average_Spending_Per_Purchase    0\n",
              "Purchase_Frequency_Per_Month     0\n",
              "Brand_Affinity_Score             0\n",
              "Product_Category_Preferences     0\n",
              "Month                            0\n",
              "Year                             0\n",
              "Season                           0\n",
              "dtype: int64"
            ]
          },
          "metadata": {},
          "execution_count": 224
        }
      ]
    },
    {
      "cell_type": "markdown",
      "source": [
        "## Data Saving\n",
        "Now save this cleaned dataset for further exploration"
      ],
      "metadata": {
        "id": "4Qi9igc1TYaf"
      }
    },
    {
      "cell_type": "code",
      "source": [
        "data.to_csv('cleaned_datatset_952_rows.csv', index=False)"
      ],
      "metadata": {
        "id": "4vw3AB3hTc6x"
      },
      "execution_count": null,
      "outputs": []
    }
  ]
}